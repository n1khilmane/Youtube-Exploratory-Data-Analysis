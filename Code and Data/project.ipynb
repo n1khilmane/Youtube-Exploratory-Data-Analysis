{
 "cells": [
  {
   "cell_type": "code",
   "execution_count": 1,
   "id": "7bf8ef44-43bb-4586-97f0-ba51876edf63",
   "metadata": {},
   "outputs": [
    {
     "name": "stderr",
     "output_type": "stream",
     "text": [
      "Setting default log level to \"WARN\".\n",
      "To adjust logging level use sc.setLogLevel(newLevel). For SparkR, use setLogLevel(newLevel).\n"
     ]
    },
    {
     "name": "stdout",
     "output_type": "stream",
     "text": [
      "22/12/20 14:28:50 WARN NativeCodeLoader: Unable to load native-hadoop library for your platform... using builtin-java classes where applicable\n"
     ]
    },
    {
     "name": "stderr",
     "output_type": "stream",
     "text": [
      "/opt/conda/envs/bigdata-fall22/lib/python3.7/site-packages/pyspark/sql/context.py:159: FutureWarning: Deprecated in 3.0.0. Use SparkSession.builder.getOrCreate() instead.\n",
      "  FutureWarning,\n"
     ]
    }
   ],
   "source": [
    "# Imports and setups\n",
    "\n",
    "import os\n",
    "import pyspark\n",
    "import pyspark.sql.functions as f\n",
    "\n",
    "conf = pyspark.SparkConf()\n",
    "conf.set('spark.ui.proxyBase', '/user/' + os.environ['JUPYTERHUB_USER'] + '/proxy/4041')\n",
    "conf.set('spark.sql.repl.eagerEval.enabled', True)\n",
    "conf.set('spark.driver.memory','4g')\n",
    "\n",
    "sc = pyspark.SparkContext(conf=conf)\n",
    "spark = pyspark.SQLContext.getOrCreate(sc)"
   ]
  },
  {
   "cell_type": "code",
   "execution_count": 2,
   "id": "3d16c567-0e82-46cd-9a4e-6109ffc55678",
   "metadata": {},
   "outputs": [
    {
     "name": "stdout",
     "output_type": "stream",
     "text": [
      "du: cannot read directory './groupshare': Permission denied\n",
      "20G\t.\n"
     ]
    }
   ],
   "source": [
    "!du -hs ."
   ]
  },
  {
   "cell_type": "code",
   "execution_count": 2,
   "id": "0bd5ee27-90f4-4d03-ba83-cf5c2f73bfe1",
   "metadata": {},
   "outputs": [
    {
     "name": "stderr",
     "output_type": "stream",
     "text": [
      "                                                                                \r"
     ]
    }
   ],
   "source": [
    "#Read CSVs\n",
    "df = spark.read.option(\"inferSchema\", \"true\")\\\n",
    "            .option(\"header\", \"false\")\\\n",
    "            .csv(\"ProjectData\")\\\n",
    "            .toDF('video_id','title','publishedAt','channelId','channelTitle','categoryId','trending_date','tags','view_count','likes','dislikes','comment_count','thumbnail_link','comments_disabled','ratings_disabled')"
   ]
  },
  {
   "cell_type": "code",
   "execution_count": 3,
   "id": "8273a36a-eee6-4c3e-9a51-ec1ba95674bd",
   "metadata": {},
   "outputs": [],
   "source": [
    "# df.dtypes"
   ]
  },
  {
   "cell_type": "code",
   "execution_count": 4,
   "id": "873898cf-3a6c-4178-b335-0bfbdaa62f32",
   "metadata": {},
   "outputs": [],
   "source": [
    "#Create Category Dict\n",
    "cat_dict = {}\n",
    "\n",
    "df_cat = spark.read\\\n",
    "            .option('multiLine', True)\\\n",
    "            .json(\"ProjectData/IN_category_id.json\")\n",
    "\n",
    "df_cat2 = df_cat.select('items').first()\n",
    "\n",
    "lst = df_cat2.asDict()['items']\n",
    "\n",
    "for ele in lst:\n",
    "    ele = ele.asDict()\n",
    "    key = ele['id']\n",
    "    ele2 = ele['snippet'].asDict()\n",
    "    value = ele2['title']\n",
    "    cat_dict[key] = value"
   ]
  },
  {
   "cell_type": "code",
   "execution_count": 5,
   "id": "a08e1fcb-20d6-4461-b5a5-6805012bba14",
   "metadata": {},
   "outputs": [],
   "source": [
    "#Create Category Dict\n",
    "df_cat = spark.read\\\n",
    "            .option('multiLine', True)\\\n",
    "            .json(\"ProjectData/US_category_id.json\")\n",
    "\n",
    "df_cat2 = df_cat.select('items').first()\n",
    "\n",
    "lst = df_cat2.asDict()['items']\n",
    "\n",
    "for ele in lst:\n",
    "    ele = ele.asDict()\n",
    "    key = ele['id']\n",
    "    ele2 = ele['snippet'].asDict()\n",
    "    value = ele2['title']\n",
    "    cat_dict[key] = value"
   ]
  },
  {
   "cell_type": "code",
   "execution_count": 6,
   "id": "6d44d7fa-e9fd-4c7c-ba92-5aa84ba841d0",
   "metadata": {},
   "outputs": [],
   "source": [
    "#Clean DF\n",
    "df_clean = df.select('title','publishedAt','channelTitle','categoryId','trending_date','tags','view_count','likes','dislikes','comment_count','comments_disabled','ratings_disabled')\n",
    "df_clean = df_clean.na.drop()\n",
    "df = df_clean"
   ]
  },
  {
   "cell_type": "code",
   "execution_count": 7,
   "id": "06882ea6-d955-4426-9032-c2efc3afffb0",
   "metadata": {},
   "outputs": [],
   "source": [
    "#Remove First Row\n",
    "df=df.filter(df['title'] != 'title')"
   ]
  },
  {
   "cell_type": "code",
   "execution_count": 8,
   "id": "6524f9df-c305-483b-9ba6-fb234a9e4a5c",
   "metadata": {},
   "outputs": [],
   "source": [
    "#Replace CategoryID with Category\n",
    "from pyspark.sql.functions import udf, col\n",
    "\n",
    "def replace_cat(id):\n",
    "    return cat_dict[str(id)]\n",
    "\n",
    "replace_cat_udf = udf(replace_cat)\n",
    "\n",
    "df2 = replace_cat_udf(df['categoryId'])\n",
    "\n",
    "df = df.withColumn('category', df2)\n",
    "df = df.drop('categoryId')"
   ]
  },
  {
   "cell_type": "code",
   "execution_count": 9,
   "id": "0be97474",
   "metadata": {},
   "outputs": [],
   "source": [
    "from pyspark.sql.types import IntegerType\n",
    "\n",
    "#Convert string timestamp values\n",
    "df1 = df.withColumn('publishedAt', f.to_timestamp('publishedAt'))\n",
    "\n",
    "df1 = df1.withColumn('trending_date', f.to_timestamp('publishedAt'))\n",
    "\n",
    "#Convert to integer type\n",
    "df1 = df1.withColumn(\"view_count\", df1[\"view_count\"].cast(IntegerType()))\n",
    "df1 = df1.withColumn(\"likes\", df1[\"likes\"].cast(IntegerType()))\n",
    "df1 = df1.withColumn(\"dislikes\", df1[\"dislikes\"].cast(IntegerType()))\n",
    "df1 = df1.withColumn(\"comment_count\", df1[\"comment_count\"].cast(IntegerType()))\n",
    "\n",
    "#Remove leading whitespaces from Strings\n",
    "df1 = df1.withColumn(\"category\", f.trim(df.category))"
   ]
  },
  {
   "cell_type": "markdown",
   "id": "c9b73a79-76f1-401f-b843-9084e60ec3dc",
   "metadata": {
    "tags": []
   },
   "source": [
    "## Top 5 View Counts, Likes, Dislikes by Channel Title"
   ]
  },
  {
   "cell_type": "code",
   "execution_count": 10,
   "id": "7dde0537-a728-4e69-9007-8990e1366c16",
   "metadata": {},
   "outputs": [
    {
     "name": "stderr",
     "output_type": "stream",
     "text": [
      "                                                                                \r"
     ]
    },
    {
     "data": {
      "text/html": [
       "<table border='1'>\n",
       "<tr><th>channelTitle</th><th>sum_view_count</th><th>sum_likes</th><th>sum_dislikes</th></tr>\n",
       "<tr><td>SAVANNAH DEXTER</td><td>18743801</td><td>1163029</td><td>71288</td></tr>\n",
       "<tr><td>Jordan Orme</td><td>9156379</td><td>717286</td><td>1009</td></tr>\n",
       "<tr><td>The New York Times</td><td>56903233</td><td>896381</td><td>75459</td></tr>\n",
       "<tr><td>Marcus House</td><td>4461265</td><td>186765</td><td>3860</td></tr>\n",
       "<tr><td>SPORTSNET</td><td>24991198</td><td>131983</td><td>7199</td></tr>\n",
       "<tr><td>NBC</td><td>60119776</td><td>1098729</td><td>37335</td></tr>\n",
       "<tr><td>Lil Nas X</td><td>252321376</td><td>16874620</td><td>626458</td></tr>\n",
       "<tr><td>Fenty Beauty By R...</td><td>3747232</td><td>142083</td><td>2211</td></tr>\n",
       "<tr><td>Chris Ramsay</td><td>41276247</td><td>3607906</td><td>7784</td></tr>\n",
       "<tr><td>By Post</td><td>27063509</td><td>549553</td><td>17515</td></tr>\n",
       "<tr><td>insuperable69</td><td>9376539</td><td>890271</td><td>16250</td></tr>\n",
       "<tr><td>ABC 10 News</td><td>9964641</td><td>97032</td><td>1453</td></tr>\n",
       "<tr><td>THE SCOTTS</td><td>8493539</td><td>435202</td><td>9622</td></tr>\n",
       "<tr><td>Austin Felt</td><td>44810688</td><td>2449270</td><td>73165</td></tr>\n",
       "<tr><td>Celaine&#x27;s ASMR</td><td>1702160</td><td>48755</td><td>2133</td></tr>\n",
       "<tr><td>Helmut</td><td>1042166</td><td>60254</td><td>1140</td></tr>\n",
       "<tr><td>Power DF</td><td>703891</td><td>16831</td><td>1749</td></tr>\n",
       "<tr><td>ManlyBadassHero</td><td>1926761</td><td>123964</td><td>756</td></tr>\n",
       "<tr><td>Karate Combat</td><td>544691</td><td>4170</td><td>417</td></tr>\n",
       "<tr><td>Sony Pictures Rel...</td><td>649871</td><td>12993</td><td>469</td></tr>\n",
       "</table>\n",
       "only showing top 20 rows\n"
      ],
      "text/plain": [
       "+--------------------+--------------+---------+------------+\n",
       "|        channelTitle|sum_view_count|sum_likes|sum_dislikes|\n",
       "+--------------------+--------------+---------+------------+\n",
       "|     SAVANNAH DEXTER|      18743801|  1163029|       71288|\n",
       "|         Jordan Orme|       9156379|   717286|        1009|\n",
       "|  The New York Times|      56903233|   896381|       75459|\n",
       "|        Marcus House|       4461265|   186765|        3860|\n",
       "|           SPORTSNET|      24991198|   131983|        7199|\n",
       "|                 NBC|      60119776|  1098729|       37335|\n",
       "|           Lil Nas X|     252321376| 16874620|      626458|\n",
       "|Fenty Beauty By R...|       3747232|   142083|        2211|\n",
       "|        Chris Ramsay|      41276247|  3607906|        7784|\n",
       "|             By Post|      27063509|   549553|       17515|\n",
       "|       insuperable69|       9376539|   890271|       16250|\n",
       "|         ABC 10 News|       9964641|    97032|        1453|\n",
       "|          THE SCOTTS|       8493539|   435202|        9622|\n",
       "|         Austin Felt|      44810688|  2449270|       73165|\n",
       "|      Celaine's ASMR|       1702160|    48755|        2133|\n",
       "|              Helmut|       1042166|    60254|        1140|\n",
       "|            Power DF|        703891|    16831|        1749|\n",
       "|     ManlyBadassHero|       1926761|   123964|         756|\n",
       "|       Karate Combat|        544691|     4170|         417|\n",
       "|Sony Pictures Rel...|        649871|    12993|         469|\n",
       "+--------------------+--------------+---------+------------+\n",
       "only showing top 20 rows"
      ]
     },
     "execution_count": 10,
     "metadata": {},
     "output_type": "execute_result"
    }
   ],
   "source": [
    "#Aggregate\n",
    "df2_title = df1.groupBy('channelTitle').agg(f.sum(\"view_count\").alias(\"sum_view_count\"),f.sum(\"likes\").alias(\"sum_likes\"),f.sum(\"dislikes\").alias(\"sum_dislikes\"))\n",
    "df2_title"
   ]
  },
  {
   "cell_type": "code",
   "execution_count": 11,
   "id": "1fe8ed13-7d45-4695-86a6-0bc5e147abd5",
   "metadata": {},
   "outputs": [
    {
     "name": "stderr",
     "output_type": "stream",
     "text": [
      "                                                                                \r"
     ]
    },
    {
     "data": {
      "text/html": [
       "<table border='1'>\n",
       "<tr><th>channelTitle</th><th>sum_view_count</th></tr>\n",
       "<tr><td>BLACKPINK</td><td>17750505277</td></tr>\n",
       "<tr><td>MrBeast</td><td>14571786863</td></tr>\n",
       "<tr><td>T-Series</td><td>7800090285</td></tr>\n",
       "<tr><td>Big Hit Labels</td><td>7393869309</td></tr>\n",
       "<tr><td>HYBE LABELS</td><td>7134963778</td></tr>\n",
       "</table>\n"
      ],
      "text/plain": [
       "+--------------+--------------+\n",
       "|  channelTitle|sum_view_count|\n",
       "+--------------+--------------+\n",
       "|     BLACKPINK|   17750505277|\n",
       "|       MrBeast|   14571786863|\n",
       "|      T-Series|    7800090285|\n",
       "|Big Hit Labels|    7393869309|\n",
       "|   HYBE LABELS|    7134963778|\n",
       "+--------------+--------------+"
      ]
     },
     "execution_count": 11,
     "metadata": {},
     "output_type": "execute_result"
    }
   ],
   "source": [
    "#Top 5 View Counts\n",
    "df_maxViewCounts_title = df2_title.select(col('channelTitle'), col('sum_view_count')).sort(f.desc('sum_view_count')).limit(5)\n",
    "df_maxViewCounts_title\n",
    "\n",
    "\n",
    "# #\n",
    "# df_maxViewCounts_title_stats = df_maxViewCounts_title.toPandas()\n",
    "# df_maxViewCounts_title_stats.to_csv('df_maxViewCounts_title_stats.csv')"
   ]
  },
  {
   "cell_type": "code",
   "execution_count": 12,
   "id": "215652b8-6c8c-494d-a9bb-7ad2f0ff4138",
   "metadata": {},
   "outputs": [],
   "source": [
    "# start temp"
   ]
  },
  {
   "cell_type": "code",
   "execution_count": 26,
   "id": "a462d012-f460-4828-88da-d3069ddfa913",
   "metadata": {},
   "outputs": [
    {
     "name": "stderr",
     "output_type": "stream",
     "text": [
      "                                                                                \r"
     ]
    }
   ],
   "source": [
    "df_trend = df1.filter((df1['channelTitle'] == 'BLACKPINK'))\n",
    "df_trend = df_trend.select(\"channelTitle\",\"publishedAt\",\"view_count\").orderBy(\"publishedAt\")\n",
    "\n",
    "# #\n",
    "# df_trend_line = df_trend.toPandas()\n",
    "# df_trend_line.to_csv('df_trend_line.csv')"
   ]
  },
  {
   "cell_type": "code",
   "execution_count": 13,
   "id": "b4dd6b3e-243c-4693-8d5a-e3511d23e2e3",
   "metadata": {},
   "outputs": [],
   "source": [
    "# end temp"
   ]
  },
  {
   "cell_type": "code",
   "execution_count": 11,
   "id": "850513f0-d6b3-4de9-a7f8-73ba1480664d",
   "metadata": {},
   "outputs": [
    {
     "name": "stderr",
     "output_type": "stream",
     "text": [
      "                                                                                \r"
     ]
    },
    {
     "data": {
      "text/html": [
       "<table border='1'>\n",
       "<tr><th>channelTitle</th><th>sum_likes</th></tr>\n",
       "<tr><td>BLACKPINK</td><td>1405411843</td></tr>\n",
       "<tr><td>MrBeast</td><td>980832852</td></tr>\n",
       "<tr><td>BANGTANTV</td><td>816410212</td></tr>\n",
       "<tr><td>HYBE LABELS</td><td>806770326</td></tr>\n",
       "<tr><td>Big Hit Labels</td><td>737933401</td></tr>\n",
       "</table>\n"
      ],
      "text/plain": [
       "+--------------+----------+\n",
       "|  channelTitle| sum_likes|\n",
       "+--------------+----------+\n",
       "|     BLACKPINK|1405411843|\n",
       "|       MrBeast| 980832852|\n",
       "|     BANGTANTV| 816410212|\n",
       "|   HYBE LABELS| 806770326|\n",
       "|Big Hit Labels| 737933401|\n",
       "+--------------+----------+"
      ]
     },
     "execution_count": 11,
     "metadata": {},
     "output_type": "execute_result"
    }
   ],
   "source": [
    "#Top 5 Likes\n",
    "df_likes_title = df2_title.select(col('channelTitle'), col('sum_likes')).sort(f.desc('sum_likes')).limit(5)\n",
    "df_likes_title\n",
    "\n",
    "# #\n",
    "# df_likes_title_stats = df_likes_title.toPandas()\n",
    "# df_likes_title_stats.to_csv('df_likes_title_stats.csv')"
   ]
  },
  {
   "cell_type": "code",
   "execution_count": 12,
   "id": "17545014-02b0-4472-af05-2d9e5fc67db0",
   "metadata": {},
   "outputs": [
    {
     "name": "stderr",
     "output_type": "stream",
     "text": [
      "                                                                                \r"
     ]
    },
    {
     "data": {
      "text/html": [
       "<table border='1'>\n",
       "<tr><th>channelTitle</th><th>sum_dislikes</th></tr>\n",
       "<tr><td>FoxStarHindi</td><td>114154505</td></tr>\n",
       "<tr><td>BLACKPINK</td><td>21567184</td></tr>\n",
       "<tr><td>Desi Music Factory</td><td>17735645</td></tr>\n",
       "<tr><td>Big Hit Labels</td><td>15925879</td></tr>\n",
       "<tr><td>T-Series</td><td>13592859</td></tr>\n",
       "</table>\n"
      ],
      "text/plain": [
       "+------------------+------------+\n",
       "|      channelTitle|sum_dislikes|\n",
       "+------------------+------------+\n",
       "|      FoxStarHindi|   114154505|\n",
       "|         BLACKPINK|    21567184|\n",
       "|Desi Music Factory|    17735645|\n",
       "|    Big Hit Labels|    15925879|\n",
       "|          T-Series|    13592859|\n",
       "+------------------+------------+"
      ]
     },
     "execution_count": 12,
     "metadata": {},
     "output_type": "execute_result"
    }
   ],
   "source": [
    "#Top 5 Dislikes\n",
    "df_dislikes_title = df2_title.select(col('channelTitle'), col('sum_dislikes')).sort(f.desc('sum_dislikes')).limit(5)\n",
    "df_dislikes_title\n",
    "\n",
    "# #\n",
    "# df_dislikes_title_stats = df_dislikes_title.toPandas()\n",
    "# df_dislikes_title_stats.to_csv('df_dislikes_title_stats.csv')"
   ]
  },
  {
   "cell_type": "markdown",
   "id": "6d81094b-dfbb-4b09-9d23-ffdd6b8dffd7",
   "metadata": {},
   "source": [
    "## Top 5 View Counts, Likes, Dislikes by Channel Category"
   ]
  },
  {
   "cell_type": "code",
   "execution_count": 13,
   "id": "e831503f-bfaa-4b7c-8302-b73d01cb80b8",
   "metadata": {},
   "outputs": [
    {
     "name": "stderr",
     "output_type": "stream",
     "text": [
      "                                                                                \r"
     ]
    },
    {
     "data": {
      "text/html": [
       "<table border='1'>\n",
       "<tr><th>category</th><th>sum_view_count</th><th>sum_likes</th><th>sum_dislikes</th></tr>\n",
       "<tr><td>Education</td><td>8591999011</td><td>471200288</td><td>6660300</td></tr>\n",
       "<tr><td>Gaming</td><td>63154944233</td><td>3518138775</td><td>44644961</td></tr>\n",
       "<tr><td>Entertainment</td><td>151889050247</td><td>6975555147</td><td>249112583</td></tr>\n",
       "<tr><td>Travel &amp; Events</td><td>1133458368</td><td>67808606</td><td>975427</td></tr>\n",
       "<tr><td>Science &amp; Technology</td><td>21256617085</td><td>943527769</td><td>24681285</td></tr>\n",
       "<tr><td>Sports</td><td>41806056655</td><td>1090879590</td><td>21125712</td></tr>\n",
       "<tr><td>Howto &amp; Style</td><td>8507909870</td><td>416061489</td><td>12929751</td></tr>\n",
       "<tr><td>Nonprofits &amp; Acti...</td><td>283980702</td><td>12992942</td><td>117360</td></tr>\n",
       "<tr><td>Film &amp; Animation</td><td>18515009066</td><td>781761072</td><td>22813383</td></tr>\n",
       "<tr><td>People &amp; Blogs</td><td>36527786274</td><td>2034389354</td><td>48953660</td></tr>\n",
       "<tr><td>News &amp; Politics</td><td>16771438706</td><td>232619920</td><td>20336621</td></tr>\n",
       "<tr><td>Pets &amp; Animals</td><td>902164046</td><td>41987498</td><td>399182</td></tr>\n",
       "<tr><td>Autos &amp; Vehicles</td><td>3005499981</td><td>137287050</td><td>1624543</td></tr>\n",
       "<tr><td>Music</td><td>185778221518</td><td>11648543902</td><td>226906062</td></tr>\n",
       "<tr><td>Comedy</td><td>25789545483</td><td>1957738854</td><td>30614974</td></tr>\n",
       "</table>\n"
      ],
      "text/plain": [
       "+--------------------+--------------+-----------+------------+\n",
       "|            category|sum_view_count|  sum_likes|sum_dislikes|\n",
       "+--------------------+--------------+-----------+------------+\n",
       "|           Education|    8591999011|  471200288|     6660300|\n",
       "|              Gaming|   63154944233| 3518138775|    44644961|\n",
       "|       Entertainment|  151889050247| 6975555147|   249112583|\n",
       "|     Travel & Events|    1133458368|   67808606|      975427|\n",
       "|Science & Technology|   21256617085|  943527769|    24681285|\n",
       "|              Sports|   41806056655| 1090879590|    21125712|\n",
       "|       Howto & Style|    8507909870|  416061489|    12929751|\n",
       "|Nonprofits & Acti...|     283980702|   12992942|      117360|\n",
       "|    Film & Animation|   18515009066|  781761072|    22813383|\n",
       "|      People & Blogs|   36527786274| 2034389354|    48953660|\n",
       "|     News & Politics|   16771438706|  232619920|    20336621|\n",
       "|      Pets & Animals|     902164046|   41987498|      399182|\n",
       "|    Autos & Vehicles|    3005499981|  137287050|     1624543|\n",
       "|               Music|  185778221518|11648543902|   226906062|\n",
       "|              Comedy|   25789545483| 1957738854|    30614974|\n",
       "+--------------------+--------------+-----------+------------+"
      ]
     },
     "execution_count": 13,
     "metadata": {},
     "output_type": "execute_result"
    }
   ],
   "source": [
    "#Aggregate\n",
    "df_cat = df1.groupBy('category').agg(f.sum(\"view_count\").alias(\"sum_view_count\"),f.sum(\"likes\").alias(\"sum_likes\"),f.sum(\"dislikes\").alias(\"sum_dislikes\"))\n",
    "df_cat\n",
    "\n",
    "# #\n",
    "# df_cat_stats = df_cat.toPandas()\n",
    "# df_cat_stats.to_csv('df_cat_stats.csv')"
   ]
  },
  {
   "cell_type": "code",
   "execution_count": 14,
   "id": "428dfcdb-eb46-46a2-90dd-a0a2a3dcaee6",
   "metadata": {},
   "outputs": [
    {
     "name": "stderr",
     "output_type": "stream",
     "text": [
      "                                                                                \r"
     ]
    },
    {
     "data": {
      "text/html": [
       "<table border='1'>\n",
       "<tr><th>category</th><th>sum_view_count</th></tr>\n",
       "<tr><td>Music</td><td>185778221518</td></tr>\n",
       "<tr><td>Entertainment</td><td>151889050247</td></tr>\n",
       "<tr><td>Gaming</td><td>63154944233</td></tr>\n",
       "<tr><td>Sports</td><td>41806056655</td></tr>\n",
       "<tr><td>People &amp; Blogs</td><td>36527786274</td></tr>\n",
       "</table>\n"
      ],
      "text/plain": [
       "+--------------+--------------+\n",
       "|      category|sum_view_count|\n",
       "+--------------+--------------+\n",
       "|         Music|  185778221518|\n",
       "| Entertainment|  151889050247|\n",
       "|        Gaming|   63154944233|\n",
       "|        Sports|   41806056655|\n",
       "|People & Blogs|   36527786274|\n",
       "+--------------+--------------+"
      ]
     },
     "execution_count": 14,
     "metadata": {},
     "output_type": "execute_result"
    }
   ],
   "source": [
    "#Top 5 View Counts\n",
    "df_maxViewCounts_cat = df_cat.select(col('category'), col('sum_view_count')).sort(f.desc('sum_view_count')).limit(5)\n",
    "df_maxViewCounts_cat"
   ]
  },
  {
   "cell_type": "code",
   "execution_count": 15,
   "id": "373ab24f-a497-460e-9837-4f8a5146d5bb",
   "metadata": {},
   "outputs": [
    {
     "name": "stderr",
     "output_type": "stream",
     "text": [
      "                                                                                \r"
     ]
    },
    {
     "data": {
      "text/html": [
       "<table border='1'>\n",
       "<tr><th>category</th><th>sum_likes</th></tr>\n",
       "<tr><td>Music</td><td>11648543902</td></tr>\n",
       "<tr><td>Entertainment</td><td>6975555147</td></tr>\n",
       "<tr><td>Gaming</td><td>3518138775</td></tr>\n",
       "<tr><td>People &amp; Blogs</td><td>2034389354</td></tr>\n",
       "<tr><td>Comedy</td><td>1957738854</td></tr>\n",
       "</table>\n"
      ],
      "text/plain": [
       "+--------------+-----------+\n",
       "|      category|  sum_likes|\n",
       "+--------------+-----------+\n",
       "|         Music|11648543902|\n",
       "| Entertainment| 6975555147|\n",
       "|        Gaming| 3518138775|\n",
       "|People & Blogs| 2034389354|\n",
       "|        Comedy| 1957738854|\n",
       "+--------------+-----------+"
      ]
     },
     "execution_count": 15,
     "metadata": {},
     "output_type": "execute_result"
    }
   ],
   "source": [
    "#Top 5 Likes\n",
    "df_likes_cat = df_cat.select(col('category'), col('sum_likes')).sort(f.desc('sum_likes')).limit(5)\n",
    "df_likes_cat"
   ]
  },
  {
   "cell_type": "code",
   "execution_count": 16,
   "id": "3e8ce466-0651-4eae-8dd9-e7bfba88671c",
   "metadata": {},
   "outputs": [
    {
     "name": "stderr",
     "output_type": "stream",
     "text": [
      "                                                                                \r"
     ]
    },
    {
     "data": {
      "text/html": [
       "<table border='1'>\n",
       "<tr><th>category</th><th>sum_dislikes</th></tr>\n",
       "<tr><td>Entertainment</td><td>249112583</td></tr>\n",
       "<tr><td>Music</td><td>226906062</td></tr>\n",
       "<tr><td>People &amp; Blogs</td><td>48953660</td></tr>\n",
       "<tr><td>Gaming</td><td>44644961</td></tr>\n",
       "<tr><td>Comedy</td><td>30614974</td></tr>\n",
       "</table>\n"
      ],
      "text/plain": [
       "+--------------+------------+\n",
       "|      category|sum_dislikes|\n",
       "+--------------+------------+\n",
       "| Entertainment|   249112583|\n",
       "|         Music|   226906062|\n",
       "|People & Blogs|    48953660|\n",
       "|        Gaming|    44644961|\n",
       "|        Comedy|    30614974|\n",
       "+--------------+------------+"
      ]
     },
     "execution_count": 16,
     "metadata": {},
     "output_type": "execute_result"
    }
   ],
   "source": [
    "#Top 5 Dislikes\n",
    "df_dislikes_cat = df_cat.select(col('category'), col('sum_dislikes')).sort(f.desc('sum_dislikes')).limit(5)\n",
    "df_dislikes_cat"
   ]
  },
  {
   "cell_type": "markdown",
   "id": "3319a409-fe60-494e-99ad-94c583c9fbfa",
   "metadata": {},
   "source": [
    "## Bottom 5 View Counts, Likes, Dislikes by Channel Category"
   ]
  },
  {
   "cell_type": "code",
   "execution_count": 17,
   "id": "e1c1fe10-0efd-4d0a-ae5a-601cdb71c86d",
   "metadata": {},
   "outputs": [
    {
     "name": "stderr",
     "output_type": "stream",
     "text": [
      "                                                                                \r"
     ]
    },
    {
     "data": {
      "text/html": [
       "<table border='1'>\n",
       "<tr><th>category</th><th>sum_view_count</th></tr>\n",
       "<tr><td>Nonprofits &amp; Acti...</td><td>283980702</td></tr>\n",
       "<tr><td>Pets &amp; Animals</td><td>902164046</td></tr>\n",
       "<tr><td>Travel &amp; Events</td><td>1133458368</td></tr>\n",
       "<tr><td>Autos &amp; Vehicles</td><td>3005499981</td></tr>\n",
       "<tr><td>Howto &amp; Style</td><td>8507909870</td></tr>\n",
       "</table>\n"
      ],
      "text/plain": [
       "+--------------------+--------------+\n",
       "|            category|sum_view_count|\n",
       "+--------------------+--------------+\n",
       "|Nonprofits & Acti...|     283980702|\n",
       "|      Pets & Animals|     902164046|\n",
       "|     Travel & Events|    1133458368|\n",
       "|    Autos & Vehicles|    3005499981|\n",
       "|       Howto & Style|    8507909870|\n",
       "+--------------------+--------------+"
      ]
     },
     "execution_count": 17,
     "metadata": {},
     "output_type": "execute_result"
    }
   ],
   "source": [
    "# Bottom 5 View Counts\n",
    "df_minViewCounts_cat = df_cat.select(col('category'), col('sum_view_count')).sort('sum_view_count').limit(5)\n",
    "df_minViewCounts_cat"
   ]
  },
  {
   "cell_type": "code",
   "execution_count": 18,
   "id": "4e8af5c1-a778-417b-8d73-b695caabbc49",
   "metadata": {},
   "outputs": [
    {
     "name": "stderr",
     "output_type": "stream",
     "text": [
      "                                                                                \r"
     ]
    },
    {
     "data": {
      "text/html": [
       "<table border='1'>\n",
       "<tr><th>category</th><th>sum_likes</th></tr>\n",
       "<tr><td>Nonprofits &amp; Acti...</td><td>12992942</td></tr>\n",
       "<tr><td>Pets &amp; Animals</td><td>41987498</td></tr>\n",
       "<tr><td>Travel &amp; Events</td><td>67808606</td></tr>\n",
       "<tr><td>Autos &amp; Vehicles</td><td>137287050</td></tr>\n",
       "<tr><td>News &amp; Politics</td><td>232619920</td></tr>\n",
       "</table>\n"
      ],
      "text/plain": [
       "+--------------------+---------+\n",
       "|            category|sum_likes|\n",
       "+--------------------+---------+\n",
       "|Nonprofits & Acti...| 12992942|\n",
       "|      Pets & Animals| 41987498|\n",
       "|     Travel & Events| 67808606|\n",
       "|    Autos & Vehicles|137287050|\n",
       "|     News & Politics|232619920|\n",
       "+--------------------+---------+"
      ]
     },
     "execution_count": 18,
     "metadata": {},
     "output_type": "execute_result"
    }
   ],
   "source": [
    "# Bottom 5 Likes\n",
    "df_min_likes_cat = df_cat.select(col('category'), col('sum_likes')).sort('sum_likes').limit(5)\n",
    "df_min_likes_cat"
   ]
  },
  {
   "cell_type": "code",
   "execution_count": 19,
   "id": "0914c65a-8617-4b23-87a9-9475cbf4a772",
   "metadata": {},
   "outputs": [
    {
     "name": "stderr",
     "output_type": "stream",
     "text": [
      "                                                                                \r"
     ]
    },
    {
     "data": {
      "text/html": [
       "<table border='1'>\n",
       "<tr><th>category</th><th>sum_dislikes</th></tr>\n",
       "<tr><td>Nonprofits &amp; Acti...</td><td>117360</td></tr>\n",
       "<tr><td>Pets &amp; Animals</td><td>399182</td></tr>\n",
       "<tr><td>Travel &amp; Events</td><td>975427</td></tr>\n",
       "<tr><td>Autos &amp; Vehicles</td><td>1624543</td></tr>\n",
       "<tr><td>Education</td><td>6660300</td></tr>\n",
       "</table>\n"
      ],
      "text/plain": [
       "+--------------------+------------+\n",
       "|            category|sum_dislikes|\n",
       "+--------------------+------------+\n",
       "|Nonprofits & Acti...|      117360|\n",
       "|      Pets & Animals|      399182|\n",
       "|     Travel & Events|      975427|\n",
       "|    Autos & Vehicles|     1624543|\n",
       "|           Education|     6660300|\n",
       "+--------------------+------------+"
      ]
     },
     "execution_count": 19,
     "metadata": {},
     "output_type": "execute_result"
    }
   ],
   "source": [
    "# Bottom 5 Dislikes\n",
    "df_min_dislikes_cat = df_cat.select(col('category'), col('sum_dislikes')).sort('sum_dislikes').limit(5)\n",
    "df_min_dislikes_cat"
   ]
  },
  {
   "cell_type": "markdown",
   "id": "a9aeaf77-e6b2-4046-b286-2eeedae8c87c",
   "metadata": {},
   "source": [
    "## Which category of videos have comments disabled ?"
   ]
  },
  {
   "cell_type": "code",
   "execution_count": 20,
   "id": "23dfcc39-71d5-4004-82ff-56e95a22a865",
   "metadata": {},
   "outputs": [
    {
     "name": "stderr",
     "output_type": "stream",
     "text": [
      "                                                                                \r"
     ]
    },
    {
     "data": {
      "text/html": [
       "<table border='1'>\n",
       "<tr><th>title</th><th>publishedAt</th><th>channelTitle</th><th>trending_date</th><th>tags</th><th>view_count</th><th>likes</th><th>dislikes</th><th>comment_count</th><th>comments_disabled</th><th>ratings_disabled</th><th>category</th></tr>\n",
       "<tr><td>FIRST DAY IN THE ...</td><td>2020-08-11 09:00:29</td><td>Ellie and Jared</td><td>2020-08-11 09:00:29</td><td>family life|life ...</td><td>208173</td><td>8810</td><td>215</td><td>0</td><td>TRUE</td><td>FALSE</td><td>People &amp; Blogs</td></tr>\n",
       "<tr><td>AN UMBRELLA ACADE...</td><td>2020-08-08 15:00:11</td><td>AidanRGallagher</td><td>2020-08-08 15:00:11</td><td>[None]</td><td>1183833</td><td>127487</td><td>1588</td><td>0</td><td>TRUE</td><td>FALSE</td><td>Entertainment</td></tr>\n",
       "<tr><td>LaBrant Family Ba...</td><td>2020-08-08 13:26:41</td><td>The LaBrant Fam</td><td>2020-08-08 13:26:41</td><td>cole and sav|the ...</td><td>5849640</td><td>287811</td><td>5040</td><td>0</td><td>TRUE</td><td>FALSE</td><td>People &amp; Blogs</td></tr>\n",
       "<tr><td>First Day of Scho...</td><td>2020-08-11 17:06:52</td><td>LexiVee03</td><td>2020-08-11 17:06:52</td><td>lexivee03|veehive...</td><td>260195</td><td>17234</td><td>213</td><td>0</td><td>TRUE</td><td>FALSE</td><td>Howto &amp; Style</td></tr>\n",
       "<tr><td>FIRST DAY IN THE ...</td><td>2020-08-11 09:00:29</td><td>Ellie and Jared</td><td>2020-08-11 09:00:29</td><td>family life|life ...</td><td>238369</td><td>9701</td><td>233</td><td>0</td><td>TRUE</td><td>FALSE</td><td>People &amp; Blogs</td></tr>\n",
       "<tr><td>AN UMBRELLA ACADE...</td><td>2020-08-08 15:00:11</td><td>AidanRGallagher</td><td>2020-08-08 15:00:11</td><td>[None]</td><td>1339532</td><td>140406</td><td>1733</td><td>0</td><td>TRUE</td><td>FALSE</td><td>Entertainment</td></tr>\n",
       "<tr><td>LaBrant Family Ba...</td><td>2020-08-08 13:26:41</td><td>The LaBrant Fam</td><td>2020-08-08 13:26:41</td><td>cole and sav|the ...</td><td>6072155</td><td>293606</td><td>5196</td><td>0</td><td>TRUE</td><td>FALSE</td><td>People &amp; Blogs</td></tr>\n",
       "<tr><td>First Day of Scho...</td><td>2020-08-11 17:06:52</td><td>LexiVee03</td><td>2020-08-11 17:06:52</td><td>lexivee03|veehive...</td><td>300847</td><td>19104</td><td>233</td><td>0</td><td>TRUE</td><td>FALSE</td><td>Howto &amp; Style</td></tr>\n",
       "<tr><td>FIRST DAY IN THE ...</td><td>2020-08-11 09:00:29</td><td>Ellie and Jared</td><td>2020-08-11 09:00:29</td><td>family life|life ...</td><td>268852</td><td>10564</td><td>247</td><td>0</td><td>TRUE</td><td>FALSE</td><td>People &amp; Blogs</td></tr>\n",
       "<tr><td>AN UMBRELLA ACADE...</td><td>2020-08-08 15:00:11</td><td>AidanRGallagher</td><td>2020-08-08 15:00:11</td><td>[None]</td><td>1472373</td><td>151676</td><td>1872</td><td>0</td><td>TRUE</td><td>FALSE</td><td>Entertainment</td></tr>\n",
       "<tr><td>LaBrant Family Ba...</td><td>2020-08-08 13:26:41</td><td>The LaBrant Fam</td><td>2020-08-08 13:26:41</td><td>cole and sav|the ...</td><td>6225338</td><td>297114</td><td>5317</td><td>0</td><td>TRUE</td><td>FALSE</td><td>People &amp; Blogs</td></tr>\n",
       "<tr><td>First Day of Scho...</td><td>2020-08-11 17:06:52</td><td>LexiVee03</td><td>2020-08-11 17:06:52</td><td>lexivee03|veehive...</td><td>331513</td><td>20434</td><td>238</td><td>0</td><td>TRUE</td><td>FALSE</td><td>Howto &amp; Style</td></tr>\n",
       "<tr><td>FIRST DAY IN THE ...</td><td>2020-08-11 09:00:29</td><td>Ellie and Jared</td><td>2020-08-11 09:00:29</td><td>family life|life ...</td><td>278849</td><td>10787</td><td>251</td><td>0</td><td>TRUE</td><td>FALSE</td><td>People &amp; Blogs</td></tr>\n",
       "<tr><td>IMPORTANT NEWS AB...</td><td>2020-08-14 14:41:46</td><td>Official Ed and L...</td><td>2020-08-14 14:41:46</td><td>[None]</td><td>922298</td><td>33123</td><td>708</td><td>0</td><td>TRUE</td><td>FALSE</td><td>Entertainment</td></tr>\n",
       "<tr><td>First Day of Scho...</td><td>2020-08-11 17:06:52</td><td>LexiVee03</td><td>2020-08-11 17:06:52</td><td>lexivee03|veehive...</td><td>345866</td><td>21003</td><td>246</td><td>0</td><td>TRUE</td><td>FALSE</td><td>Howto &amp; Style</td></tr>\n",
       "<tr><td>Pregnancy Result....</td><td>2020-08-16 21:33:35</td><td>Carmen Pritchett</td><td>2020-08-16 21:33:35</td><td>Carmen Pritchett|...</td><td>147603</td><td>18239</td><td>342</td><td>0</td><td>TRUE</td><td>FALSE</td><td>Entertainment</td></tr>\n",
       "<tr><td>IMPORTANT NEWS AB...</td><td>2020-08-14 14:41:46</td><td>Official Ed and L...</td><td>2020-08-14 14:41:46</td><td>[None]</td><td>1268882</td><td>42585</td><td>1002</td><td>0</td><td>TRUE</td><td>FALSE</td><td>Entertainment</td></tr>\n",
       "<tr><td>Pregnancy Result....</td><td>2020-08-16 21:33:35</td><td>Carmen Pritchett</td><td>2020-08-16 21:33:35</td><td>Carmen Pritchett|...</td><td>211179</td><td>22165</td><td>603</td><td>0</td><td>TRUE</td><td>FALSE</td><td>Entertainment</td></tr>\n",
       "<tr><td>IMPORTANT NEWS AB...</td><td>2020-08-14 14:41:46</td><td>Official Ed and L...</td><td>2020-08-14 14:41:46</td><td>[None]</td><td>1458325</td><td>47176</td><td>1073</td><td>0</td><td>TRUE</td><td>FALSE</td><td>Entertainment</td></tr>\n",
       "<tr><td>Pregnancy Result....</td><td>2020-08-16 21:33:35</td><td>Carmen Pritchett</td><td>2020-08-16 21:33:35</td><td>Carmen Pritchett|...</td><td>233769</td><td>23797</td><td>628</td><td>0</td><td>TRUE</td><td>FALSE</td><td>Entertainment</td></tr>\n",
       "</table>\n",
       "only showing top 20 rows\n"
      ],
      "text/plain": [
       "+--------------------+-------------------+--------------------+-------------------+--------------------+----------+------+--------+-------------+-----------------+----------------+--------------+\n",
       "|               title|        publishedAt|        channelTitle|      trending_date|                tags|view_count| likes|dislikes|comment_count|comments_disabled|ratings_disabled|      category|\n",
       "+--------------------+-------------------+--------------------+-------------------+--------------------+----------+------+--------+-------------+-----------------+----------------+--------------+\n",
       "|FIRST DAY IN THE ...|2020-08-11 09:00:29|     Ellie and Jared|2020-08-11 09:00:29|family life|life ...|    208173|  8810|     215|            0|             TRUE|           FALSE|People & Blogs|\n",
       "|AN UMBRELLA ACADE...|2020-08-08 15:00:11|     AidanRGallagher|2020-08-08 15:00:11|              [None]|   1183833|127487|    1588|            0|             TRUE|           FALSE| Entertainment|\n",
       "|LaBrant Family Ba...|2020-08-08 13:26:41|     The LaBrant Fam|2020-08-08 13:26:41|cole and sav|the ...|   5849640|287811|    5040|            0|             TRUE|           FALSE|People & Blogs|\n",
       "|First Day of Scho...|2020-08-11 17:06:52|           LexiVee03|2020-08-11 17:06:52|lexivee03|veehive...|    260195| 17234|     213|            0|             TRUE|           FALSE| Howto & Style|\n",
       "|FIRST DAY IN THE ...|2020-08-11 09:00:29|     Ellie and Jared|2020-08-11 09:00:29|family life|life ...|    238369|  9701|     233|            0|             TRUE|           FALSE|People & Blogs|\n",
       "|AN UMBRELLA ACADE...|2020-08-08 15:00:11|     AidanRGallagher|2020-08-08 15:00:11|              [None]|   1339532|140406|    1733|            0|             TRUE|           FALSE| Entertainment|\n",
       "|LaBrant Family Ba...|2020-08-08 13:26:41|     The LaBrant Fam|2020-08-08 13:26:41|cole and sav|the ...|   6072155|293606|    5196|            0|             TRUE|           FALSE|People & Blogs|\n",
       "|First Day of Scho...|2020-08-11 17:06:52|           LexiVee03|2020-08-11 17:06:52|lexivee03|veehive...|    300847| 19104|     233|            0|             TRUE|           FALSE| Howto & Style|\n",
       "|FIRST DAY IN THE ...|2020-08-11 09:00:29|     Ellie and Jared|2020-08-11 09:00:29|family life|life ...|    268852| 10564|     247|            0|             TRUE|           FALSE|People & Blogs|\n",
       "|AN UMBRELLA ACADE...|2020-08-08 15:00:11|     AidanRGallagher|2020-08-08 15:00:11|              [None]|   1472373|151676|    1872|            0|             TRUE|           FALSE| Entertainment|\n",
       "|LaBrant Family Ba...|2020-08-08 13:26:41|     The LaBrant Fam|2020-08-08 13:26:41|cole and sav|the ...|   6225338|297114|    5317|            0|             TRUE|           FALSE|People & Blogs|\n",
       "|First Day of Scho...|2020-08-11 17:06:52|           LexiVee03|2020-08-11 17:06:52|lexivee03|veehive...|    331513| 20434|     238|            0|             TRUE|           FALSE| Howto & Style|\n",
       "|FIRST DAY IN THE ...|2020-08-11 09:00:29|     Ellie and Jared|2020-08-11 09:00:29|family life|life ...|    278849| 10787|     251|            0|             TRUE|           FALSE|People & Blogs|\n",
       "|IMPORTANT NEWS AB...|2020-08-14 14:41:46|Official Ed and L...|2020-08-14 14:41:46|              [None]|    922298| 33123|     708|            0|             TRUE|           FALSE| Entertainment|\n",
       "|First Day of Scho...|2020-08-11 17:06:52|           LexiVee03|2020-08-11 17:06:52|lexivee03|veehive...|    345866| 21003|     246|            0|             TRUE|           FALSE| Howto & Style|\n",
       "|Pregnancy Result....|2020-08-16 21:33:35|    Carmen Pritchett|2020-08-16 21:33:35|Carmen Pritchett|...|    147603| 18239|     342|            0|             TRUE|           FALSE| Entertainment|\n",
       "|IMPORTANT NEWS AB...|2020-08-14 14:41:46|Official Ed and L...|2020-08-14 14:41:46|              [None]|   1268882| 42585|    1002|            0|             TRUE|           FALSE| Entertainment|\n",
       "|Pregnancy Result....|2020-08-16 21:33:35|    Carmen Pritchett|2020-08-16 21:33:35|Carmen Pritchett|...|    211179| 22165|     603|            0|             TRUE|           FALSE| Entertainment|\n",
       "|IMPORTANT NEWS AB...|2020-08-14 14:41:46|Official Ed and L...|2020-08-14 14:41:46|              [None]|   1458325| 47176|    1073|            0|             TRUE|           FALSE| Entertainment|\n",
       "|Pregnancy Result....|2020-08-16 21:33:35|    Carmen Pritchett|2020-08-16 21:33:35|Carmen Pritchett|...|    233769| 23797|     628|            0|             TRUE|           FALSE| Entertainment|\n",
       "+--------------------+-------------------+--------------------+-------------------+--------------------+----------+------+--------+-------------+-----------------+----------------+--------------+\n",
       "only showing top 20 rows"
      ]
     },
     "execution_count": 20,
     "metadata": {},
     "output_type": "execute_result"
    }
   ],
   "source": [
    "df1_comment_disabled = df1.filter((df1['comments_disabled'] == 'TRUE'))\n",
    "df1_comment_disabled"
   ]
  },
  {
   "cell_type": "code",
   "execution_count": 21,
   "id": "1c7af4c7-3daa-4b02-81fd-37ce4b694fc8",
   "metadata": {},
   "outputs": [
    {
     "name": "stderr",
     "output_type": "stream",
     "text": [
      "                                                                                \r"
     ]
    },
    {
     "data": {
      "text/html": [
       "<table border='1'>\n",
       "<tr><th>category</th><th>comments_disabled_count</th></tr>\n",
       "<tr><td>News &amp; Politics</td><td>838</td></tr>\n",
       "<tr><td>Entertainment</td><td>598</td></tr>\n",
       "<tr><td>Science &amp; Technology</td><td>528</td></tr>\n",
       "<tr><td>People &amp; Blogs</td><td>405</td></tr>\n",
       "<tr><td>Gaming</td><td>307</td></tr>\n",
       "<tr><td>Music</td><td>101</td></tr>\n",
       "<tr><td>Film &amp; Animation</td><td>88</td></tr>\n",
       "<tr><td>Sports</td><td>65</td></tr>\n",
       "<tr><td>Howto &amp; Style</td><td>47</td></tr>\n",
       "<tr><td>Education</td><td>41</td></tr>\n",
       "<tr><td>Comedy</td><td>20</td></tr>\n",
       "<tr><td>Autos &amp; Vehicles</td><td>6</td></tr>\n",
       "</table>\n"
      ],
      "text/plain": [
       "+--------------------+-----------------------+\n",
       "|            category|comments_disabled_count|\n",
       "+--------------------+-----------------------+\n",
       "|     News & Politics|                    838|\n",
       "|       Entertainment|                    598|\n",
       "|Science & Technology|                    528|\n",
       "|      People & Blogs|                    405|\n",
       "|              Gaming|                    307|\n",
       "|               Music|                    101|\n",
       "|    Film & Animation|                     88|\n",
       "|              Sports|                     65|\n",
       "|       Howto & Style|                     47|\n",
       "|           Education|                     41|\n",
       "|              Comedy|                     20|\n",
       "|    Autos & Vehicles|                      6|\n",
       "+--------------------+-----------------------+"
      ]
     },
     "execution_count": 21,
     "metadata": {},
     "output_type": "execute_result"
    }
   ],
   "source": [
    "df_comment_disabled = df1_comment_disabled.select(col('category')).groupBy('category').count().sort(f.desc('count')).withColumnRenamed('count','comments_disabled_count')\n",
    "df_comment_disabled\n",
    "\n",
    "# #\n",
    "# df_comment_disabled_stats = df_comment_disabled.toPandas()\n",
    "# df_comment_disabled_stats.to_csv('df_comment_disabled_stats.csv')"
   ]
  },
  {
   "cell_type": "markdown",
   "id": "c57c4485-859e-43ce-a2ec-32ea7a44c7fd",
   "metadata": {},
   "source": [
    "## Which category of videos have ratings disabled ?"
   ]
  },
  {
   "cell_type": "code",
   "execution_count": 22,
   "id": "670468f8-89f2-470a-9371-1c09acb1748b",
   "metadata": {},
   "outputs": [
    {
     "data": {
      "text/html": [
       "<table border='1'>\n",
       "<tr><th>title</th><th>publishedAt</th><th>channelTitle</th><th>trending_date</th><th>tags</th><th>view_count</th><th>likes</th><th>dislikes</th><th>comment_count</th><th>comments_disabled</th><th>ratings_disabled</th><th>category</th></tr>\n",
       "<tr><td>The Paris Hilton ...</td><td>2020-08-17 12:00:13</td><td>Paris Hilton</td><td>2020-08-17 12:00:13</td><td>Paris Hilton|Pari...</td><td>330188</td><td>0</td><td>0</td><td>1362</td><td>FALSE</td><td>TRUE</td><td>Entertainment</td></tr>\n",
       "<tr><td>What Really Happe...</td><td>2020-08-16 01:30:01</td><td>kenanK TV</td><td>2020-08-16 01:30:01</td><td>sean o malley|sea...</td><td>391246</td><td>0</td><td>0</td><td>969</td><td>FALSE</td><td>TRUE</td><td>Sports</td></tr>\n",
       "<tr><td>SuperM 슈퍼엠 &#x27;100&#x27; ...</td><td>2020-08-18 11:00:17</td><td>SuperM</td><td>2020-08-18 11:00:17</td><td>[None]</td><td>958787</td><td>0</td><td>0</td><td>8314</td><td>FALSE</td><td>TRUE</td><td>Music</td></tr>\n",
       "<tr><td>The Paris Hilton ...</td><td>2020-08-17 12:00:13</td><td>Paris Hilton</td><td>2020-08-17 12:00:13</td><td>Paris Hilton|Pari...</td><td>600752</td><td>0</td><td>0</td><td>1898</td><td>FALSE</td><td>TRUE</td><td>Entertainment</td></tr>\n",
       "<tr><td>What Really Happe...</td><td>2020-08-16 01:30:01</td><td>kenanK TV</td><td>2020-08-16 01:30:01</td><td>sean o malley|sea...</td><td>396636</td><td>0</td><td>0</td><td>947</td><td>FALSE</td><td>TRUE</td><td>Sports</td></tr>\n",
       "<tr><td>SuperM 슈퍼엠 &#x27;100&#x27; ...</td><td>2020-08-18 11:00:17</td><td>SuperM</td><td>2020-08-18 11:00:17</td><td>[None]</td><td>1122081</td><td>0</td><td>0</td><td>8797</td><td>FALSE</td><td>TRUE</td><td>Music</td></tr>\n",
       "<tr><td>The Paris Hilton ...</td><td>2020-08-17 12:00:13</td><td>Paris Hilton</td><td>2020-08-17 12:00:13</td><td>Paris Hilton|Pari...</td><td>737888</td><td>0</td><td>0</td><td>2026</td><td>FALSE</td><td>TRUE</td><td>Entertainment</td></tr>\n",
       "<tr><td>What Really Happe...</td><td>2020-08-16 01:30:01</td><td>kenanK TV</td><td>2020-08-16 01:30:01</td><td>sean o malley|sea...</td><td>399271</td><td>0</td><td>0</td><td>949</td><td>FALSE</td><td>TRUE</td><td>Sports</td></tr>\n",
       "<tr><td>SuperM 슈퍼엠 &#x27;100&#x27; ...</td><td>2020-08-18 11:00:17</td><td>SuperM</td><td>2020-08-18 11:00:17</td><td>[None]</td><td>1213461</td><td>0</td><td>0</td><td>9025</td><td>FALSE</td><td>TRUE</td><td>Music</td></tr>\n",
       "<tr><td>The Paris Hilton ...</td><td>2020-08-17 12:00:13</td><td>Paris Hilton</td><td>2020-08-17 12:00:13</td><td>Paris Hilton|Pari...</td><td>887734</td><td>0</td><td>0</td><td>2214</td><td>FALSE</td><td>TRUE</td><td>Entertainment</td></tr>\n",
       "<tr><td>What Really Happe...</td><td>2020-08-16 01:30:01</td><td>kenanK TV</td><td>2020-08-16 01:30:01</td><td>sean o malley|sea...</td><td>400533</td><td>0</td><td>0</td><td>952</td><td>FALSE</td><td>TRUE</td><td>Sports</td></tr>\n",
       "<tr><td>SuperM 슈퍼엠 &#x27;100&#x27; ...</td><td>2020-08-18 11:00:17</td><td>SuperM</td><td>2020-08-18 11:00:17</td><td>[None]</td><td>1279156</td><td>0</td><td>0</td><td>9125</td><td>FALSE</td><td>TRUE</td><td>Music</td></tr>\n",
       "<tr><td>The Paris Hilton ...</td><td>2020-08-17 12:00:13</td><td>Paris Hilton</td><td>2020-08-17 12:00:13</td><td>Paris Hilton|Pari...</td><td>1031171</td><td>0</td><td>0</td><td>2539</td><td>FALSE</td><td>TRUE</td><td>Entertainment</td></tr>\n",
       "<tr><td>SuperM 슈퍼엠 &#x27;100&#x27; ...</td><td>2020-08-18 11:00:17</td><td>SuperM</td><td>2020-08-18 11:00:17</td><td>[None]</td><td>1329943</td><td>0</td><td>0</td><td>9194</td><td>FALSE</td><td>TRUE</td><td>Music</td></tr>\n",
       "<tr><td>The Paris Hilton ...</td><td>2020-08-17 12:00:13</td><td>Paris Hilton</td><td>2020-08-17 12:00:13</td><td>Paris Hilton|Pari...</td><td>1244184</td><td>0</td><td>0</td><td>2884</td><td>FALSE</td><td>TRUE</td><td>Entertainment</td></tr>\n",
       "<tr><td>SuperM 슈퍼엠 &#x27;100&#x27; ...</td><td>2020-08-18 11:00:17</td><td>SuperM</td><td>2020-08-18 11:00:17</td><td>[None]</td><td>1363214</td><td>0</td><td>0</td><td>9252</td><td>FALSE</td><td>TRUE</td><td>Music</td></tr>\n",
       "<tr><td>Hurricane Laura M...</td><td>2020-08-27 08:11:31</td><td>The Weather Channel</td><td>2020-08-27 08:11:31</td><td>[None]</td><td>236596</td><td>0</td><td>0</td><td>1002</td><td>FALSE</td><td>TRUE</td><td>News &amp; Politics</td></tr>\n",
       "<tr><td>Trump delivers ac...</td><td>2020-08-28 00:24:39</td><td>Fox Business</td><td>2020-08-28 00:24:39</td><td>Fox Business|Fox ...</td><td>514067</td><td>0</td><td>0</td><td>0</td><td>TRUE</td><td>TRUE</td><td>News &amp; Politics</td></tr>\n",
       "<tr><td>Hurricane Laura M...</td><td>2020-08-27 08:11:31</td><td>The Weather Channel</td><td>2020-08-27 08:11:31</td><td>[None]</td><td>278006</td><td>0</td><td>0</td><td>1101</td><td>FALSE</td><td>TRUE</td><td>News &amp; Politics</td></tr>\n",
       "<tr><td>Trump delivers ac...</td><td>2020-08-28 00:24:39</td><td>Fox Business</td><td>2020-08-28 00:24:39</td><td>Fox Business|Fox ...</td><td>605168</td><td>0</td><td>0</td><td>0</td><td>TRUE</td><td>TRUE</td><td>News &amp; Politics</td></tr>\n",
       "</table>\n",
       "only showing top 20 rows\n"
      ],
      "text/plain": [
       "+-----------------------+-------------------+-------------------+-------------------+--------------------+----------+-----+--------+-------------+-----------------+----------------+---------------+\n",
       "|                  title|        publishedAt|       channelTitle|      trending_date|                tags|view_count|likes|dislikes|comment_count|comments_disabled|ratings_disabled|       category|\n",
       "+-----------------------+-------------------+-------------------+-------------------+--------------------+----------+-----+--------+-------------+-----------------+----------------+---------------+\n",
       "|   The Paris Hilton ...|2020-08-17 12:00:13|       Paris Hilton|2020-08-17 12:00:13|Paris Hilton|Pari...|    330188|    0|       0|         1362|            FALSE|            TRUE|  Entertainment|\n",
       "|   What Really Happe...|2020-08-16 01:30:01|          kenanK TV|2020-08-16 01:30:01|sean o malley|sea...|    391246|    0|       0|          969|            FALSE|            TRUE|         Sports|\n",
       "|SuperM 슈퍼엠 '100' ...|2020-08-18 11:00:17|             SuperM|2020-08-18 11:00:17|              [None]|    958787|    0|       0|         8314|            FALSE|            TRUE|          Music|\n",
       "|   The Paris Hilton ...|2020-08-17 12:00:13|       Paris Hilton|2020-08-17 12:00:13|Paris Hilton|Pari...|    600752|    0|       0|         1898|            FALSE|            TRUE|  Entertainment|\n",
       "|   What Really Happe...|2020-08-16 01:30:01|          kenanK TV|2020-08-16 01:30:01|sean o malley|sea...|    396636|    0|       0|          947|            FALSE|            TRUE|         Sports|\n",
       "|SuperM 슈퍼엠 '100' ...|2020-08-18 11:00:17|             SuperM|2020-08-18 11:00:17|              [None]|   1122081|    0|       0|         8797|            FALSE|            TRUE|          Music|\n",
       "|   The Paris Hilton ...|2020-08-17 12:00:13|       Paris Hilton|2020-08-17 12:00:13|Paris Hilton|Pari...|    737888|    0|       0|         2026|            FALSE|            TRUE|  Entertainment|\n",
       "|   What Really Happe...|2020-08-16 01:30:01|          kenanK TV|2020-08-16 01:30:01|sean o malley|sea...|    399271|    0|       0|          949|            FALSE|            TRUE|         Sports|\n",
       "|SuperM 슈퍼엠 '100' ...|2020-08-18 11:00:17|             SuperM|2020-08-18 11:00:17|              [None]|   1213461|    0|       0|         9025|            FALSE|            TRUE|          Music|\n",
       "|   The Paris Hilton ...|2020-08-17 12:00:13|       Paris Hilton|2020-08-17 12:00:13|Paris Hilton|Pari...|    887734|    0|       0|         2214|            FALSE|            TRUE|  Entertainment|\n",
       "|   What Really Happe...|2020-08-16 01:30:01|          kenanK TV|2020-08-16 01:30:01|sean o malley|sea...|    400533|    0|       0|          952|            FALSE|            TRUE|         Sports|\n",
       "|SuperM 슈퍼엠 '100' ...|2020-08-18 11:00:17|             SuperM|2020-08-18 11:00:17|              [None]|   1279156|    0|       0|         9125|            FALSE|            TRUE|          Music|\n",
       "|   The Paris Hilton ...|2020-08-17 12:00:13|       Paris Hilton|2020-08-17 12:00:13|Paris Hilton|Pari...|   1031171|    0|       0|         2539|            FALSE|            TRUE|  Entertainment|\n",
       "|SuperM 슈퍼엠 '100' ...|2020-08-18 11:00:17|             SuperM|2020-08-18 11:00:17|              [None]|   1329943|    0|       0|         9194|            FALSE|            TRUE|          Music|\n",
       "|   The Paris Hilton ...|2020-08-17 12:00:13|       Paris Hilton|2020-08-17 12:00:13|Paris Hilton|Pari...|   1244184|    0|       0|         2884|            FALSE|            TRUE|  Entertainment|\n",
       "|SuperM 슈퍼엠 '100' ...|2020-08-18 11:00:17|             SuperM|2020-08-18 11:00:17|              [None]|   1363214|    0|       0|         9252|            FALSE|            TRUE|          Music|\n",
       "|   Hurricane Laura M...|2020-08-27 08:11:31|The Weather Channel|2020-08-27 08:11:31|              [None]|    236596|    0|       0|         1002|            FALSE|            TRUE|News & Politics|\n",
       "|   Trump delivers ac...|2020-08-28 00:24:39|       Fox Business|2020-08-28 00:24:39|Fox Business|Fox ...|    514067|    0|       0|            0|             TRUE|            TRUE|News & Politics|\n",
       "|   Hurricane Laura M...|2020-08-27 08:11:31|The Weather Channel|2020-08-27 08:11:31|              [None]|    278006|    0|       0|         1101|            FALSE|            TRUE|News & Politics|\n",
       "|   Trump delivers ac...|2020-08-28 00:24:39|       Fox Business|2020-08-28 00:24:39|Fox Business|Fox ...|    605168|    0|       0|            0|             TRUE|            TRUE|News & Politics|\n",
       "+-----------------------+-------------------+-------------------+-------------------+--------------------+----------+-----+--------+-------------+-----------------+----------------+---------------+\n",
       "only showing top 20 rows"
      ]
     },
     "execution_count": 22,
     "metadata": {},
     "output_type": "execute_result"
    }
   ],
   "source": [
    "df1_ratings_disabled = df1.filter((df1['ratings_disabled'] == 'TRUE'))\n",
    "df1_ratings_disabled"
   ]
  },
  {
   "cell_type": "code",
   "execution_count": 23,
   "id": "60e18a78-b969-47e2-9031-38e674857dbe",
   "metadata": {},
   "outputs": [
    {
     "name": "stderr",
     "output_type": "stream",
     "text": [
      "                                                                                \r"
     ]
    },
    {
     "data": {
      "text/html": [
       "<table border='1'>\n",
       "<tr><th>category</th><th>ratings_disabled_count</th></tr>\n",
       "<tr><td>News &amp; Politics</td><td>269</td></tr>\n",
       "<tr><td>People &amp; Blogs</td><td>242</td></tr>\n",
       "<tr><td>Gaming</td><td>208</td></tr>\n",
       "<tr><td>Music</td><td>187</td></tr>\n",
       "<tr><td>Entertainment</td><td>170</td></tr>\n",
       "<tr><td>Sports</td><td>129</td></tr>\n",
       "<tr><td>Film &amp; Animation</td><td>95</td></tr>\n",
       "<tr><td>Science &amp; Technology</td><td>40</td></tr>\n",
       "<tr><td>Howto &amp; Style</td><td>39</td></tr>\n",
       "<tr><td>Education</td><td>30</td></tr>\n",
       "<tr><td>Comedy</td><td>15</td></tr>\n",
       "<tr><td>Autos &amp; Vehicles</td><td>15</td></tr>\n",
       "<tr><td>Pets &amp; Animals</td><td>8</td></tr>\n",
       "<tr><td>Travel &amp; Events</td><td>4</td></tr>\n",
       "</table>\n"
      ],
      "text/plain": [
       "+--------------------+----------------------+\n",
       "|            category|ratings_disabled_count|\n",
       "+--------------------+----------------------+\n",
       "|     News & Politics|                   269|\n",
       "|      People & Blogs|                   242|\n",
       "|              Gaming|                   208|\n",
       "|               Music|                   187|\n",
       "|       Entertainment|                   170|\n",
       "|              Sports|                   129|\n",
       "|    Film & Animation|                    95|\n",
       "|Science & Technology|                    40|\n",
       "|       Howto & Style|                    39|\n",
       "|           Education|                    30|\n",
       "|              Comedy|                    15|\n",
       "|    Autos & Vehicles|                    15|\n",
       "|      Pets & Animals|                     8|\n",
       "|     Travel & Events|                     4|\n",
       "+--------------------+----------------------+"
      ]
     },
     "execution_count": 23,
     "metadata": {},
     "output_type": "execute_result"
    }
   ],
   "source": [
    "df_ratings_disabled = df1_ratings_disabled.select(col('category')).groupBy('category').count().sort(f.desc('count')).withColumnRenamed('count','ratings_disabled_count')\n",
    "df_ratings_disabled\n",
    "\n",
    "# #\n",
    "# df_ratings_disabled_stats = df_ratings_disabled.toPandas()\n",
    "# df_ratings_disabled_stats.to_csv('df_ratings_disabled_stats.csv')"
   ]
  },
  {
   "cell_type": "markdown",
   "id": "10728645-1bbd-482c-a2a4-df7182f4488f",
   "metadata": {},
   "source": [
    "## Most watched video in India and USA overall"
   ]
  },
  {
   "cell_type": "code",
   "execution_count": 24,
   "id": "0dbfbd5a-dccf-4e53-b455-a1714d6fa4cb",
   "metadata": {},
   "outputs": [
    {
     "name": "stderr",
     "output_type": "stream",
     "text": [
      "                                                                                \r"
     ]
    },
    {
     "data": {
      "text/html": [
       "<table border='1'>\n",
       "<tr><th>title</th><th>publishedAt</th><th>channelTitle</th><th>trending_date</th><th>tags</th><th>view_count</th><th>likes</th><th>dislikes</th><th>comment_count</th><th>comments_disabled</th><th>ratings_disabled</th><th>category</th></tr>\n",
       "<tr><td>BLACKPINK - ‘Pink...</td><td>2022-08-19 00:00:13</td><td>BLACKPINK</td><td>2022-08-19 00:00:13</td><td>YG Entertainment|...</td><td>277791741</td><td>12993894</td><td>0</td><td>3534337</td><td>FALSE</td><td>FALSE</td><td>Music</td></tr>\n",
       "<tr><td>BLACKPINK - ‘Pink...</td><td>2022-08-19 00:00:13</td><td>BLACKPINK</td><td>2022-08-19 00:00:13</td><td>YG Entertainment|...</td><td>273162966</td><td>12937252</td><td>0</td><td>3516745</td><td>FALSE</td><td>FALSE</td><td>Music</td></tr>\n",
       "<tr><td>BLACKPINK - ‘Pink...</td><td>2022-08-19 00:00:13</td><td>BLACKPINK</td><td>2022-08-19 00:00:13</td><td>YG Entertainment|...</td><td>268758295</td><td>12882841</td><td>0</td><td>3504692</td><td>FALSE</td><td>FALSE</td><td>Music</td></tr>\n",
       "<tr><td>BLACKPINK - ‘Pink...</td><td>2022-08-19 00:00:13</td><td>BLACKPINK</td><td>2022-08-19 00:00:13</td><td>YG Entertainment|...</td><td>264459017</td><td>12829059</td><td>0</td><td>3491132</td><td>FALSE</td><td>FALSE</td><td>Music</td></tr>\n",
       "<tr><td>BTS (방탄소년단) &#x27;Butt...</td><td>2021-05-20 23:46:13</td><td>HYBE LABELS</td><td>2021-05-20 23:46:13</td><td>BIGHIT|빅히트|방탄소년단|...</td><td>264407389</td><td>16021534</td><td>150989</td><td>6738537</td><td>FALSE</td><td>FALSE</td><td>Music</td></tr>\n",
       "</table>\n"
      ],
      "text/plain": [
       "+-------------------------+-------------------+------------+-------------------+----------------------------+----------+--------+--------+-------------+-----------------+----------------+--------+\n",
       "|                    title|        publishedAt|channelTitle|      trending_date|                        tags|view_count|   likes|dislikes|comment_count|comments_disabled|ratings_disabled|category|\n",
       "+-------------------------+-------------------+------------+-------------------+----------------------------+----------+--------+--------+-------------+-----------------+----------------+--------+\n",
       "|     BLACKPINK - ‘Pink...|2022-08-19 00:00:13|   BLACKPINK|2022-08-19 00:00:13|        YG Entertainment|...| 277791741|12993894|       0|      3534337|            FALSE|           FALSE|   Music|\n",
       "|     BLACKPINK - ‘Pink...|2022-08-19 00:00:13|   BLACKPINK|2022-08-19 00:00:13|        YG Entertainment|...| 273162966|12937252|       0|      3516745|            FALSE|           FALSE|   Music|\n",
       "|     BLACKPINK - ‘Pink...|2022-08-19 00:00:13|   BLACKPINK|2022-08-19 00:00:13|        YG Entertainment|...| 268758295|12882841|       0|      3504692|            FALSE|           FALSE|   Music|\n",
       "|     BLACKPINK - ‘Pink...|2022-08-19 00:00:13|   BLACKPINK|2022-08-19 00:00:13|        YG Entertainment|...| 264459017|12829059|       0|      3491132|            FALSE|           FALSE|   Music|\n",
       "|BTS (방탄소년단) 'Butt...|2021-05-20 23:46:13| HYBE LABELS|2021-05-20 23:46:13|BIGHIT|빅히트|방탄소년단|...| 264407389|16021534|  150989|      6738537|            FALSE|           FALSE|   Music|\n",
       "+-------------------------+-------------------+------------+-------------------+----------------------------+----------+--------+--------+-------------+-----------------+----------------+--------+"
      ]
     },
     "execution_count": 24,
     "metadata": {},
     "output_type": "execute_result"
    }
   ],
   "source": [
    "# Top 5 watched video\n",
    "df_maxview = df1.sort(f.desc('view_count')).limit(5)\n",
    "df_maxview"
   ]
  },
  {
   "cell_type": "markdown",
   "id": "cd10dc9f-981e-42d1-8f34-562b34d425d2",
   "metadata": {},
   "source": [
    "## Most watched video in India and USA Year wise"
   ]
  },
  {
   "cell_type": "code",
   "execution_count": 25,
   "id": "61ddf9ab-fb07-4da7-ac25-7924a2554a67",
   "metadata": {},
   "outputs": [],
   "source": [
    "from pyspark.sql.functions import year\n",
    "from pyspark.sql.functions import to_date\n",
    " \n",
    "df_maxview_year = df1.withColumn('publishedAt_Year',year(df1['publishedAt']))"
   ]
  },
  {
   "cell_type": "code",
   "execution_count": 26,
   "id": "6a9b0fe3-d25f-4460-a0a6-d5a285ca89bf",
   "metadata": {},
   "outputs": [
    {
     "name": "stderr",
     "output_type": "stream",
     "text": [
      "                                                                                \r"
     ]
    },
    {
     "data": {
      "text/html": [
       "<table border='1'>\n",
       "<tr><th>publishedAt_Year</th><th>count</th></tr>\n",
       "<tr><td>2022</td><td>66805</td></tr>\n",
       "<tr><td>2020</td><td>55344</td></tr>\n",
       "<tr><td>2021</td><td>102212</td></tr>\n",
       "</table>\n"
      ],
      "text/plain": [
       "+----------------+------+\n",
       "|publishedAt_Year| count|\n",
       "+----------------+------+\n",
       "|            2022| 66805|\n",
       "|            2020| 55344|\n",
       "|            2021|102212|\n",
       "+----------------+------+"
      ]
     },
     "execution_count": 26,
     "metadata": {},
     "output_type": "execute_result"
    }
   ],
   "source": [
    "# Check distinct years\n",
    "df_maxview_year.select('publishedAt_Year').groupBy('publishedAt_Year').count()"
   ]
  },
  {
   "cell_type": "code",
   "execution_count": 27,
   "id": "3bc65208-fb66-4382-9a46-d2faf246b0f7",
   "metadata": {},
   "outputs": [
    {
     "name": "stderr",
     "output_type": "stream",
     "text": [
      "                                                                                \r"
     ]
    },
    {
     "data": {
      "text/html": [
       "<table border='1'>\n",
       "<tr><th>title</th><th>publishedAt</th><th>channelTitle</th><th>trending_date</th><th>tags</th><th>view_count</th><th>likes</th><th>dislikes</th><th>comment_count</th><th>comments_disabled</th><th>ratings_disabled</th><th>category</th><th>publishedAt_Year</th></tr>\n",
       "<tr><td>BTS (방탄소년단) &#x27;Dyna...</td><td>2020-08-20 23:58:10</td><td>Big Hit Labels</td><td>2020-08-20 23:58:10</td><td>BIGHIT|빅히트|방탄소년단|...</td><td>253995993</td><td>16115240</td><td>756696</td><td>6249727</td><td>FALSE</td><td>FALSE</td><td>Music</td><td>2020</td></tr>\n",
       "<tr><td>BTS (방탄소년단) &#x27;Dyna...</td><td>2020-08-20 23:58:10</td><td>Big Hit Labels</td><td>2020-08-20 23:58:10</td><td>BIGHIT|빅히트|방탄소년단|...</td><td>244507902</td><td>15948359</td><td>738811</td><td>6188781</td><td>FALSE</td><td>FALSE</td><td>Music</td><td>2020</td></tr>\n",
       "<tr><td>BTS (방탄소년단) &#x27;Dyna...</td><td>2020-08-20 23:58:10</td><td>Big Hit Labels</td><td>2020-08-20 23:58:10</td><td>BIGHIT|빅히트|방탄소년단|...</td><td>232649205</td><td>15735551</td><td>714196</td><td>6064883</td><td>FALSE</td><td>FALSE</td><td>Music</td><td>2020</td></tr>\n",
       "<tr><td>BTS (방탄소년단) &#x27;Dyna...</td><td>2020-08-20 23:58:10</td><td>Big Hit Labels</td><td>2020-08-20 23:58:10</td><td>BIGHIT|빅히트|방탄소년단|...</td><td>232649205</td><td>15735533</td><td>714194</td><td>6065230</td><td>FALSE</td><td>FALSE</td><td>Music</td><td>2020</td></tr>\n",
       "<tr><td>BTS (방탄소년단) &#x27;Dyna...</td><td>2020-08-20 23:58:10</td><td>Big Hit Labels</td><td>2020-08-20 23:58:10</td><td>BIGHIT|빅히트|방탄소년단|...</td><td>219110491</td><td>15460834</td><td>674291</td><td>5810606</td><td>FALSE</td><td>FALSE</td><td>Music</td><td>2020</td></tr>\n",
       "</table>\n"
      ],
      "text/plain": [
       "+-------------------------+-------------------+--------------+-------------------+----------------------------+----------+--------+--------+-------------+-----------------+----------------+--------+----------------+\n",
       "|                    title|        publishedAt|  channelTitle|      trending_date|                        tags|view_count|   likes|dislikes|comment_count|comments_disabled|ratings_disabled|category|publishedAt_Year|\n",
       "+-------------------------+-------------------+--------------+-------------------+----------------------------+----------+--------+--------+-------------+-----------------+----------------+--------+----------------+\n",
       "|BTS (방탄소년단) 'Dyna...|2020-08-20 23:58:10|Big Hit Labels|2020-08-20 23:58:10|BIGHIT|빅히트|방탄소년단|...| 253995993|16115240|  756696|      6249727|            FALSE|           FALSE|   Music|            2020|\n",
       "|BTS (방탄소년단) 'Dyna...|2020-08-20 23:58:10|Big Hit Labels|2020-08-20 23:58:10|BIGHIT|빅히트|방탄소년단|...| 244507902|15948359|  738811|      6188781|            FALSE|           FALSE|   Music|            2020|\n",
       "|BTS (방탄소년단) 'Dyna...|2020-08-20 23:58:10|Big Hit Labels|2020-08-20 23:58:10|BIGHIT|빅히트|방탄소년단|...| 232649205|15735551|  714196|      6064883|            FALSE|           FALSE|   Music|            2020|\n",
       "|BTS (방탄소년단) 'Dyna...|2020-08-20 23:58:10|Big Hit Labels|2020-08-20 23:58:10|BIGHIT|빅히트|방탄소년단|...| 232649205|15735533|  714194|      6065230|            FALSE|           FALSE|   Music|            2020|\n",
       "|BTS (방탄소년단) 'Dyna...|2020-08-20 23:58:10|Big Hit Labels|2020-08-20 23:58:10|BIGHIT|빅히트|방탄소년단|...| 219110491|15460834|  674291|      5810606|            FALSE|           FALSE|   Music|            2020|\n",
       "+-------------------------+-------------------+--------------+-------------------+----------------------------+----------+--------+--------+-------------+-----------------+----------------+--------+----------------+"
      ]
     },
     "execution_count": 27,
     "metadata": {},
     "output_type": "execute_result"
    }
   ],
   "source": [
    "# Top 5 watched video in 2020\n",
    "df_maxview_year_20 = df_maxview_year.filter((df_maxview_year['publishedAt_Year'] == '2020'))\n",
    "df_maxview_year_20 = df_maxview_year_20.sort(f.desc('view_count')).limit(5)\n",
    "df_maxview_year_20"
   ]
  },
  {
   "cell_type": "code",
   "execution_count": 28,
   "id": "609d349e-dd2c-47ef-be0c-a34abeced646",
   "metadata": {},
   "outputs": [
    {
     "name": "stderr",
     "output_type": "stream",
     "text": [
      "                                                                                \r"
     ]
    },
    {
     "data": {
      "text/html": [
       "<table border='1'>\n",
       "<tr><th>title</th><th>publishedAt</th><th>channelTitle</th><th>trending_date</th><th>tags</th><th>view_count</th><th>likes</th><th>dislikes</th><th>comment_count</th><th>comments_disabled</th><th>ratings_disabled</th><th>category</th><th>publishedAt_Year</th></tr>\n",
       "<tr><td>BTS (방탄소년단) &#x27;Butt...</td><td>2021-05-20 23:46:13</td><td>HYBE LABELS</td><td>2021-05-20 23:46:13</td><td>BIGHIT|빅히트|방탄소년단|...</td><td>264407389</td><td>16021534</td><td>150989</td><td>6738537</td><td>FALSE</td><td>FALSE</td><td>Music</td><td>2021</td></tr>\n",
       "<tr><td>BTS (방탄소년단) &#x27;Butt...</td><td>2021-05-20 23:46:13</td><td>HYBE LABELS</td><td>2021-05-20 23:46:13</td><td>BIGHIT|빅히트|방탄소년단|...</td><td>264407389</td><td>16021542</td><td>150990</td><td>6738565</td><td>FALSE</td><td>FALSE</td><td>Music</td><td>2021</td></tr>\n",
       "<tr><td>Turn into orbeez ...</td><td>2021-07-03 00:04:57</td><td>FFUNTV</td><td>2021-07-03 00:04:57</td><td>[None]</td><td>206202284</td><td>6840430</td><td>240769</td><td>2826</td><td>FALSE</td><td>FALSE</td><td>Entertainment</td><td>2021</td></tr>\n",
       "<tr><td>Turn into orbeez ...</td><td>2021-07-03 00:04:57</td><td>FFUNTV</td><td>2021-07-03 00:04:57</td><td>[None]</td><td>204846218</td><td>6791654</td><td>237038</td><td>2792</td><td>FALSE</td><td>FALSE</td><td>Entertainment</td><td>2021</td></tr>\n",
       "<tr><td>Turn into orbeez ...</td><td>2021-07-03 00:04:57</td><td>FFUNTV</td><td>2021-07-03 00:04:57</td><td>[None]</td><td>203532581</td><td>6745231</td><td>233458</td><td>2765</td><td>FALSE</td><td>FALSE</td><td>Entertainment</td><td>2021</td></tr>\n",
       "</table>\n"
      ],
      "text/plain": [
       "+-------------------------+-------------------+------------+-------------------+----------------------------+----------+--------+--------+-------------+-----------------+----------------+-------------+----------------+\n",
       "|                    title|        publishedAt|channelTitle|      trending_date|                        tags|view_count|   likes|dislikes|comment_count|comments_disabled|ratings_disabled|     category|publishedAt_Year|\n",
       "+-------------------------+-------------------+------------+-------------------+----------------------------+----------+--------+--------+-------------+-----------------+----------------+-------------+----------------+\n",
       "|BTS (방탄소년단) 'Butt...|2021-05-20 23:46:13| HYBE LABELS|2021-05-20 23:46:13|BIGHIT|빅히트|방탄소년단|...| 264407389|16021534|  150989|      6738537|            FALSE|           FALSE|        Music|            2021|\n",
       "|BTS (방탄소년단) 'Butt...|2021-05-20 23:46:13| HYBE LABELS|2021-05-20 23:46:13|BIGHIT|빅히트|방탄소년단|...| 264407389|16021542|  150990|      6738565|            FALSE|           FALSE|        Music|            2021|\n",
       "|     Turn into orbeez ...|2021-07-03 00:04:57|      FFUNTV|2021-07-03 00:04:57|                      [None]| 206202284| 6840430|  240769|         2826|            FALSE|           FALSE|Entertainment|            2021|\n",
       "|     Turn into orbeez ...|2021-07-03 00:04:57|      FFUNTV|2021-07-03 00:04:57|                      [None]| 204846218| 6791654|  237038|         2792|            FALSE|           FALSE|Entertainment|            2021|\n",
       "|     Turn into orbeez ...|2021-07-03 00:04:57|      FFUNTV|2021-07-03 00:04:57|                      [None]| 203532581| 6745231|  233458|         2765|            FALSE|           FALSE|Entertainment|            2021|\n",
       "+-------------------------+-------------------+------------+-------------------+----------------------------+----------+--------+--------+-------------+-----------------+----------------+-------------+----------------+"
      ]
     },
     "execution_count": 28,
     "metadata": {},
     "output_type": "execute_result"
    }
   ],
   "source": [
    "# Top 5 watched video in 2021\n",
    "df_maxview_year_21 = df_maxview_year.filter((df_maxview_year['publishedAt_Year'] == '2021'))\n",
    "df_maxview_year_21 = df_maxview_year_21.sort(f.desc('view_count')).limit(5)\n",
    "df_maxview_year_21"
   ]
  },
  {
   "cell_type": "code",
   "execution_count": 29,
   "id": "1f7c8f24-0cf1-4c9e-b26b-ec5d45f5cc53",
   "metadata": {},
   "outputs": [
    {
     "name": "stderr",
     "output_type": "stream",
     "text": [
      "                                                                                \r"
     ]
    },
    {
     "data": {
      "text/html": [
       "<table border='1'>\n",
       "<tr><th>title</th><th>publishedAt</th><th>channelTitle</th><th>trending_date</th><th>tags</th><th>view_count</th><th>likes</th><th>dislikes</th><th>comment_count</th><th>comments_disabled</th><th>ratings_disabled</th><th>category</th><th>publishedAt_Year</th></tr>\n",
       "<tr><td>BLACKPINK - ‘Pink...</td><td>2022-08-19 00:00:13</td><td>BLACKPINK</td><td>2022-08-19 00:00:13</td><td>YG Entertainment|...</td><td>277791741</td><td>12993894</td><td>0</td><td>3534337</td><td>FALSE</td><td>FALSE</td><td>Music</td><td>2022</td></tr>\n",
       "<tr><td>BLACKPINK - ‘Pink...</td><td>2022-08-19 00:00:13</td><td>BLACKPINK</td><td>2022-08-19 00:00:13</td><td>YG Entertainment|...</td><td>273162966</td><td>12937252</td><td>0</td><td>3516745</td><td>FALSE</td><td>FALSE</td><td>Music</td><td>2022</td></tr>\n",
       "<tr><td>BLACKPINK - ‘Pink...</td><td>2022-08-19 00:00:13</td><td>BLACKPINK</td><td>2022-08-19 00:00:13</td><td>YG Entertainment|...</td><td>268758295</td><td>12882841</td><td>0</td><td>3504692</td><td>FALSE</td><td>FALSE</td><td>Music</td><td>2022</td></tr>\n",
       "<tr><td>BLACKPINK - ‘Pink...</td><td>2022-08-19 00:00:13</td><td>BLACKPINK</td><td>2022-08-19 00:00:13</td><td>YG Entertainment|...</td><td>264459017</td><td>12829059</td><td>0</td><td>3491132</td><td>FALSE</td><td>FALSE</td><td>Music</td><td>2022</td></tr>\n",
       "<tr><td>BLACKPINK - ‘Pink...</td><td>2022-08-19 00:00:13</td><td>BLACKPINK</td><td>2022-08-19 00:00:13</td><td>YG Entertainment|...</td><td>260126694</td><td>12773474</td><td>0</td><td>3479717</td><td>FALSE</td><td>FALSE</td><td>Music</td><td>2022</td></tr>\n",
       "</table>\n"
      ],
      "text/plain": [
       "+--------------------+-------------------+------------+-------------------+--------------------+----------+--------+--------+-------------+-----------------+----------------+--------+----------------+\n",
       "|               title|        publishedAt|channelTitle|      trending_date|                tags|view_count|   likes|dislikes|comment_count|comments_disabled|ratings_disabled|category|publishedAt_Year|\n",
       "+--------------------+-------------------+------------+-------------------+--------------------+----------+--------+--------+-------------+-----------------+----------------+--------+----------------+\n",
       "|BLACKPINK - ‘Pink...|2022-08-19 00:00:13|   BLACKPINK|2022-08-19 00:00:13|YG Entertainment|...| 277791741|12993894|       0|      3534337|            FALSE|           FALSE|   Music|            2022|\n",
       "|BLACKPINK - ‘Pink...|2022-08-19 00:00:13|   BLACKPINK|2022-08-19 00:00:13|YG Entertainment|...| 273162966|12937252|       0|      3516745|            FALSE|           FALSE|   Music|            2022|\n",
       "|BLACKPINK - ‘Pink...|2022-08-19 00:00:13|   BLACKPINK|2022-08-19 00:00:13|YG Entertainment|...| 268758295|12882841|       0|      3504692|            FALSE|           FALSE|   Music|            2022|\n",
       "|BLACKPINK - ‘Pink...|2022-08-19 00:00:13|   BLACKPINK|2022-08-19 00:00:13|YG Entertainment|...| 264459017|12829059|       0|      3491132|            FALSE|           FALSE|   Music|            2022|\n",
       "|BLACKPINK - ‘Pink...|2022-08-19 00:00:13|   BLACKPINK|2022-08-19 00:00:13|YG Entertainment|...| 260126694|12773474|       0|      3479717|            FALSE|           FALSE|   Music|            2022|\n",
       "+--------------------+-------------------+------------+-------------------+--------------------+----------+--------+--------+-------------+-----------------+----------------+--------+----------------+"
      ]
     },
     "execution_count": 29,
     "metadata": {},
     "output_type": "execute_result"
    }
   ],
   "source": [
    "# Top 5 watched video in 2022\n",
    "df_maxview_year_22 = df_maxview_year.filter((df_maxview_year['publishedAt_Year'] == '2022'))\n",
    "df_maxview_year_22 = df_maxview_year_22.sort(f.desc('view_count')).limit(5)\n",
    "df_maxview_year_22"
   ]
  },
  {
   "cell_type": "markdown",
   "id": "f8ce9891-0f14-4704-ada0-28d3176a3c69",
   "metadata": {},
   "source": [
    "## Most watched video in India and USA Category wise"
   ]
  },
  {
   "cell_type": "code",
   "execution_count": 30,
   "id": "0cc149ab-b3e1-4089-a39b-d09da4537489",
   "metadata": {},
   "outputs": [
    {
     "name": "stderr",
     "output_type": "stream",
     "text": [
      "                                                                                \r"
     ]
    },
    {
     "data": {
      "text/html": [
       "<table border='1'>\n",
       "<tr><th>title</th><th>publishedAt</th><th>channelTitle</th><th>trending_date</th><th>tags</th><th>view_count</th><th>likes</th><th>dislikes</th><th>comment_count</th><th>comments_disabled</th><th>ratings_disabled</th><th>category</th></tr>\n",
       "<tr><td>jai shree ram 🚩#...</td><td>2022-03-14 23:21:02</td><td>CHANDAN ART ACADEMY</td><td>2022-03-14 23:21:02</td><td>[None]</td><td>149615603</td><td>7940311</td><td>0</td><td>48945</td><td>FALSE</td><td>FALSE</td><td>Education</td></tr>\n",
       "<tr><td>AMONG US, but wit...</td><td>2020-10-08 20:16:14</td><td>The Pixel Kingdom</td><td>2020-10-08 20:16:14</td><td>among us|100 play...</td><td>73728043</td><td>2337792</td><td>55198</td><td>69154</td><td>FALSE</td><td>FALSE</td><td>Gaming</td></tr>\n",
       "<tr><td>Turn into orbeez ...</td><td>2021-07-03 00:04:57</td><td>FFUNTV</td><td>2021-07-03 00:04:57</td><td>[None]</td><td>206202284</td><td>6840430</td><td>240769</td><td>2826</td><td>FALSE</td><td>FALSE</td><td>Entertainment</td></tr>\n",
       "<tr><td>Crazy #alluarjun ...</td><td>2021-12-08 08:16:02</td><td>Dr.Harrsha Artist</td><td>2021-12-08 08:16:02</td><td>[None]</td><td>86415224</td><td>5676872</td><td>0</td><td>25975</td><td>FALSE</td><td>FALSE</td><td>Film &amp; Animation</td></tr>\n",
       "<tr><td>HOW TO GO THROUGH...</td><td>2021-05-15 14:29:43</td><td>5-Minute Crafts F...</td><td>2021-05-15 14:29:43</td><td>5-Minute Crafts|5...</td><td>89075984</td><td>2293772</td><td>97541</td><td>13435</td><td>FALSE</td><td>FALSE</td><td>Howto &amp; Style</td></tr>\n",
       "<tr><td>Denzel Washington...</td><td>2022-04-03 10:58:54</td><td>T.D. Jakes</td><td>2022-04-03 10:58:54</td><td>denzel washington...</td><td>6045361</td><td>71043</td><td>0</td><td>19442</td><td>FALSE</td><td>FALSE</td><td>Nonprofits &amp; Acti...</td></tr>\n",
       "<tr><td>Amazon’s Big Game...</td><td>2021-02-02 08:25:20</td><td>amazon</td><td>2021-02-02 08:25:20</td><td>[None]</td><td>77745621</td><td>51199</td><td>5779</td><td>7584</td><td>FALSE</td><td>FALSE</td><td>Science &amp; Technology</td></tr>\n",
       "<tr><td>Dice Stacks from ...</td><td>2021-10-06 17:44:27</td><td>That&#x27;s Amazing Sh...</td><td>2021-10-06 17:44:27</td><td>[None]</td><td>103564168</td><td>7174425</td><td>120961</td><td>23727</td><td>FALSE</td><td>FALSE</td><td>Sports</td></tr>\n",
       "<tr><td>Wait for it… 😱 #...</td><td>2021-12-10 00:26:16</td><td>Taylor Red TV</td><td>2021-12-10 00:26:16</td><td>[None]</td><td>22912715</td><td>0</td><td>0</td><td>1318</td><td>FALSE</td><td>TRUE</td><td>Travel &amp; Events</td></tr>\n",
       "<tr><td>Jeep® | The Middle</td><td>2021-02-06 23:58:17</td><td>Jeep</td><td>2021-02-06 23:58:17</td><td>jeep|jeep vehicle...</td><td>35708883</td><td>29814</td><td>18047</td><td>11565</td><td>FALSE</td><td>FALSE</td><td>Autos &amp; Vehicles</td></tr>\n",
       "<tr><td>My hidden talent ...</td><td>2021-10-09 16:14:58</td><td>Zach King Shorts</td><td>2021-10-09 16:14:58</td><td>shorts|#shorts|za...</td><td>87284105</td><td>2813557</td><td>64294</td><td>4402</td><td>FALSE</td><td>FALSE</td><td>Comedy</td></tr>\n",
       "<tr><td>BLACKPINK - ‘Pink...</td><td>2022-08-19 00:00:13</td><td>BLACKPINK</td><td>2022-08-19 00:00:13</td><td>YG Entertainment|...</td><td>277791741</td><td>12993894</td><td>0</td><td>3534337</td><td>FALSE</td><td>FALSE</td><td>Music</td></tr>\n",
       "<tr><td>Watch the uncenso...</td><td>2022-03-27 23:06:53</td><td>Guardian News</td><td>2022-03-27 23:06:53</td><td>Jada Pinkett Smit...</td><td>98202265</td><td>1443032</td><td>0</td><td>245566</td><td>FALSE</td><td>FALSE</td><td>News &amp; Politics</td></tr>\n",
       "<tr><td>8 Year Old Loses ...</td><td>2021-04-06 12:23:36</td><td>Woody &amp; Kleiny Extra</td><td>2021-04-06 12:23:36</td><td>shorts|viral|come...</td><td>98126454</td><td>3489930</td><td>113347</td><td>9724</td><td>FALSE</td><td>FALSE</td><td>People &amp; Blogs</td></tr>\n",
       "<tr><td>Wild Horse Immedi...</td><td>2021-01-07 16:00:06</td><td>The Dodo</td><td>2021-01-07 16:00:06</td><td>animal video|anim...</td><td>9094409</td><td>247479</td><td>3963</td><td>11852</td><td>FALSE</td><td>FALSE</td><td>Pets &amp; Animals</td></tr>\n",
       "</table>\n"
      ],
      "text/plain": [
       "+--------------------+-------------------+--------------------+-------------------+--------------------+----------+--------+--------+-------------+-----------------+----------------+--------------------+\n",
       "|               title|        publishedAt|        channelTitle|      trending_date|                tags|view_count|   likes|dislikes|comment_count|comments_disabled|ratings_disabled|            category|\n",
       "+--------------------+-------------------+--------------------+-------------------+--------------------+----------+--------+--------+-------------+-----------------+----------------+--------------------+\n",
       "|jai shree ram 🚩#...|2022-03-14 23:21:02| CHANDAN ART ACADEMY|2022-03-14 23:21:02|              [None]| 149615603| 7940311|       0|        48945|            FALSE|           FALSE|           Education|\n",
       "|AMONG US, but wit...|2020-10-08 20:16:14|   The Pixel Kingdom|2020-10-08 20:16:14|among us|100 play...|  73728043| 2337792|   55198|        69154|            FALSE|           FALSE|              Gaming|\n",
       "|Turn into orbeez ...|2021-07-03 00:04:57|              FFUNTV|2021-07-03 00:04:57|              [None]| 206202284| 6840430|  240769|         2826|            FALSE|           FALSE|       Entertainment|\n",
       "|Crazy #alluarjun ...|2021-12-08 08:16:02|   Dr.Harrsha Artist|2021-12-08 08:16:02|              [None]|  86415224| 5676872|       0|        25975|            FALSE|           FALSE|    Film & Animation|\n",
       "|HOW TO GO THROUGH...|2021-05-15 14:29:43|5-Minute Crafts F...|2021-05-15 14:29:43|5-Minute Crafts|5...|  89075984| 2293772|   97541|        13435|            FALSE|           FALSE|       Howto & Style|\n",
       "|Denzel Washington...|2022-04-03 10:58:54|          T.D. Jakes|2022-04-03 10:58:54|denzel washington...|   6045361|   71043|       0|        19442|            FALSE|           FALSE|Nonprofits & Acti...|\n",
       "|Amazon’s Big Game...|2021-02-02 08:25:20|              amazon|2021-02-02 08:25:20|              [None]|  77745621|   51199|    5779|         7584|            FALSE|           FALSE|Science & Technology|\n",
       "|Dice Stacks from ...|2021-10-06 17:44:27|That's Amazing Sh...|2021-10-06 17:44:27|              [None]| 103564168| 7174425|  120961|        23727|            FALSE|           FALSE|              Sports|\n",
       "|Wait for it… 😱 #...|2021-12-10 00:26:16|       Taylor Red TV|2021-12-10 00:26:16|              [None]|  22912715|       0|       0|         1318|            FALSE|            TRUE|     Travel & Events|\n",
       "|  Jeep® | The Middle|2021-02-06 23:58:17|                Jeep|2021-02-06 23:58:17|jeep|jeep vehicle...|  35708883|   29814|   18047|        11565|            FALSE|           FALSE|    Autos & Vehicles|\n",
       "|My hidden talent ...|2021-10-09 16:14:58|    Zach King Shorts|2021-10-09 16:14:58|shorts|#shorts|za...|  87284105| 2813557|   64294|         4402|            FALSE|           FALSE|              Comedy|\n",
       "|BLACKPINK - ‘Pink...|2022-08-19 00:00:13|           BLACKPINK|2022-08-19 00:00:13|YG Entertainment|...| 277791741|12993894|       0|      3534337|            FALSE|           FALSE|               Music|\n",
       "|Watch the uncenso...|2022-03-27 23:06:53|       Guardian News|2022-03-27 23:06:53|Jada Pinkett Smit...|  98202265| 1443032|       0|       245566|            FALSE|           FALSE|     News & Politics|\n",
       "|8 Year Old Loses ...|2021-04-06 12:23:36|Woody & Kleiny Extra|2021-04-06 12:23:36|shorts|viral|come...|  98126454| 3489930|  113347|         9724|            FALSE|           FALSE|      People & Blogs|\n",
       "|Wild Horse Immedi...|2021-01-07 16:00:06|            The Dodo|2021-01-07 16:00:06|animal video|anim...|   9094409|  247479|    3963|        11852|            FALSE|           FALSE|      Pets & Animals|\n",
       "+--------------------+-------------------+--------------------+-------------------+--------------------+----------+--------+--------+-------------+-----------------+----------------+--------------------+"
      ]
     },
     "execution_count": 30,
     "metadata": {},
     "output_type": "execute_result"
    }
   ],
   "source": [
    "# Top watched videos category wise\n",
    "from pyspark.sql.window import Window\n",
    "from pyspark.sql.functions import col, row_number\n",
    "windowDept = Window.partitionBy(\"category\").orderBy(col(\"view_count\").desc())\n",
    "df_maxview_cat = df1.withColumn(\"row\",row_number().over(windowDept)).filter(col(\"row\") == 1).drop(\"row\")\n",
    "df_maxview_cat\n",
    "\n",
    "\n",
    "# #\n",
    "# df_maxview_cat_stats = df_maxview_cat.toPandas()\n",
    "# df_maxview_cat_stats.to_csv('df_maxview_cat_stats.csv')\n",
    "\n",
    "\n",
    "# Alternate approach\n",
    "# category_list = df1.select('category').distinct().rdd.flatMap(lambda x: x).collect()\n",
    "# df_max_cat = df1.filter((df1['category'] == 'Blank'))\n",
    "# for cat in category_list: \n",
    "#     df1_t = df1.filter((df1['category'] == cat))\n",
    "#     df1_t = df1_t.sort(f.desc('view_count')).limit(1)\n",
    "#     df_max_cat = df_max_cat.union(df1_t)\n",
    "    \n",
    "# df_max_cat"
   ]
  },
  {
   "cell_type": "markdown",
   "id": "8103238d-b83f-42ab-bb4a-988b5b5c5c73",
   "metadata": {},
   "source": [
    "## Elastic Search"
   ]
  },
  {
   "cell_type": "code",
   "execution_count": 31,
   "id": "670b4e68-7d71-463d-a878-3168d004ee1c",
   "metadata": {},
   "outputs": [],
   "source": [
    "# ES Hadoop"
   ]
  },
  {
   "cell_type": "code",
   "execution_count": 58,
   "id": "cce60ebb-a466-4b03-b425-2ea3af05ec85",
   "metadata": {},
   "outputs": [
    {
     "ename": "ModuleNotFoundError",
     "evalue": "No module named 'elasticsearch'",
     "output_type": "error",
     "traceback": [
      "\u001b[0;31m---------------------------------------------------------------------------\u001b[0m",
      "\u001b[0;31mModuleNotFoundError\u001b[0m                       Traceback (most recent call last)",
      "\u001b[0;32m/tmp/ipykernel_69/1927031230.py\u001b[0m in \u001b[0;36m<module>\u001b[0;34m\u001b[0m\n\u001b[0;32m----> 1\u001b[0;31m \u001b[0;32mfrom\u001b[0m \u001b[0melasticsearch\u001b[0m \u001b[0;32mimport\u001b[0m \u001b[0mElasticsearch\u001b[0m\u001b[0;34m\u001b[0m\u001b[0;34m\u001b[0m\u001b[0m\n\u001b[0m",
      "\u001b[0;31mModuleNotFoundError\u001b[0m: No module named 'elasticsearch'"
     ]
    }
   ],
   "source": [
    "from elasticsearch import Elasticsearch"
   ]
  },
  {
   "cell_type": "code",
   "execution_count": null,
   "id": "b6b82d11-9383-488f-8cd5-01a3d1493422",
   "metadata": {},
   "outputs": [],
   "source": []
  }
 ],
 "metadata": {
  "kernelspec": {
   "display_name": "Python [conda env:bigdata-fall22]",
   "language": "python",
   "name": "conda-env-bigdata-fall22-py"
  },
  "language_info": {
   "codemirror_mode": {
    "name": "ipython",
    "version": 3
   },
   "file_extension": ".py",
   "mimetype": "text/x-python",
   "name": "python",
   "nbconvert_exporter": "python",
   "pygments_lexer": "ipython3",
   "version": "3.7.12"
  }
 },
 "nbformat": 4,
 "nbformat_minor": 5
}
